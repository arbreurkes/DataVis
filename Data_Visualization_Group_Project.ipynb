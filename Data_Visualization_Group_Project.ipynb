{
 "cells": [
  {
   "cell_type": "markdown",
   "metadata": {},
   "source": [
    "### Imports"
   ]
  },
  {
   "cell_type": "code",
   "execution_count": 7,
   "metadata": {},
   "outputs": [],
   "source": [
    "import numpy as np\n",
    "import pandas as pd\n",
    "import matplotlib\n",
    "import matplotlib.pyplot as plt\n",
    "import array as array\n",
    "from scipy.stats import pearsonr\n",
    "%matplotlib inline\n",
    "import seaborn as sns\n",
    "pd.set_option('display.width', 500)\n",
    "pd.set_option('display.max_columns', 100)\n",
    "pd.set_option('display.max_rows', 100)\n",
    "#pd.set_option(\"display.max_rows\", None, \"display.max_columns\", None)"
   ]
  },
  {
   "cell_type": "markdown",
   "metadata": {},
   "source": [
    "### Data Loading"
   ]
  },
  {
   "cell_type": "code",
   "execution_count": 8,
   "metadata": {},
   "outputs": [
    {
     "output_type": "stream",
     "name": "stdout",
     "text": [
      "County result: (4682, 7)\nState result: (64, 5)\ndemographic: (3220, 37)\n"
     ]
    }
   ],
   "source": [
    "demographics=pd.read_csv(\"data/income/demographic.csv\")\n",
    "c_results=pd.read_csv(\"data/output/countyData.csv\")\n",
    "s_results=pd.read_csv(\"data/output/stateData.csv\")\n",
    "print('County result:',c_results.shape)\n",
    "print('State result:',s_results.shape)\n",
    "print('demographic:',demographics.shape)"
   ]
  },
  {
   "cell_type": "markdown",
   "metadata": {},
   "source": [
    "### Data Cleaning - Demographics"
   ]
  },
  {
   "cell_type": "code",
   "execution_count": 9,
   "metadata": {
    "scrolled": true
   },
   "outputs": [],
   "source": [
    "#Porto Rico doesnt vote\n",
    "demographics.drop(demographics[demographics.State=='Puerto Rico'].index, inplace=True)\n",
    "\n",
    "#Drop Columns\n",
    "demographics.drop(['CountyId','IncomeErr','IncomePerCapErr'], axis=1, inplace=True)\n",
    "\n",
    "#General Data adjustment for mapping\n",
    "demographics['County'] = demographics['County'].str.replace(' County', '')\n",
    "demographics['County'] = demographics['County'].str.replace(' Parish', '')\n",
    "demographics['County'] = demographics['County'].str.replace(' parish', '')\n",
    "\n",
    "#Virginia\n",
    "m = demographics['State'] == 'Virginia'\n",
    "demographics.loc[m, 'County'] = demographics.loc[m, 'County'].replace({' city': ''}, regex=True)\n",
    "demographics.loc[m, 'County'] = demographics.loc[m, 'County'].replace({' City': ''}, regex=True)\n",
    "\n",
    "#Alaska\n",
    "m = demographics['State'] == 'Alaska'\n",
    "demographics.loc[m, 'County'] = 'Alaska'\n",
    "\n",
    "#Alaska Merge\n",
    "\n",
    "#Sorting\n",
    "demographics.sort_values(by=['State', 'County'], inplace=True, ascending=True)"
   ]
  },
  {
   "cell_type": "markdown",
   "metadata": {},
   "source": [
    "### Data Cleaning - c_result"
   ]
  },
  {
   "cell_type": "code",
   "execution_count": 10,
   "metadata": {},
   "outputs": [],
   "source": [
    "#Drop NA for Now until fix\n",
    "c_results=c_results.dropna()\n",
    "\n",
    "#TEMPORARY FIX /// Drop all Alaska Except one\n",
    "c_results.drop(c_results[(c_results.state=='Alaska') & (c_results.county_id > 13)].index, inplace=True)\n",
    "\n",
    "#Sorting\n",
    "#c_results.sort_values(by=['state', 'county'], inplace=True, ascending=True)"
   ]
  },
  {
   "cell_type": "markdown",
   "metadata": {},
   "source": [
    "### Data Cleaning - s_result"
   ]
  },
  {
   "cell_type": "code",
   "execution_count": 11,
   "metadata": {},
   "outputs": [],
   "source": [
    "#Drop NA for Now until fix\n",
    "s_results=s_results.dropna()\n",
    "\n",
    "#Sorting\n",
    "#c_results.sort_values(by=['state', 'county'], inplace=True, ascending=True)"
   ]
  },
  {
   "cell_type": "markdown",
   "metadata": {},
   "source": [
    "### Data County Merge"
   ]
  },
  {
   "cell_type": "code",
   "execution_count": 12,
   "metadata": {},
   "outputs": [],
   "source": [
    "County_merged=pd.merge(right=demographics, left=c_results, right_on=['State','County'], left_on=['state','county'])\n",
    "County_merged.drop(['State', 'County'], axis=1, inplace=True)\n",
    "County_merged['state_id'] = County_merged['state_id'].astype(\"Int32\")\n",
    "County_merged['county_id'] = County_merged['county_id'].astype(\"Int32\")\n",
    "County_merged.shape\n",
    "County_merged.to_csv (r'data/output/Merged_County_V1.csv', index = False, header=True)"
   ]
  },
  {
   "cell_type": "markdown",
   "metadata": {},
   "source": [
    "### Data State Merge"
   ]
  },
  {
   "cell_type": "code",
   "execution_count": 13,
   "metadata": {},
   "outputs": [],
   "source": [
    "def wAvrgAggr(df, cName):\n",
    "    totalW = 0.0\n",
    "    totVal = 0.0\n",
    "    for value, weight in zip(df[cName], df['TotalPop']):\n",
    "        totVal += float(value) * float(weight)\n",
    "        totalW += weight\n",
    "    return totVal/totalW\n",
    "\n",
    "def sumAggregation(df, cName):\n",
    "    return df[cName].sum()\n",
    "\n",
    "def weighted_median(df, val):\n",
    "    df_sorted = df.sort_values(val)\n",
    "    cumsum = df_sorted['TotalPop'].cumsum()\n",
    "    cutoff = df_sorted['TotalPop'].sum() / 2.\n",
    "    return df_sorted[cumsum >= cutoff][val].iloc[0]"
   ]
  },
  {
   "cell_type": "code",
   "execution_count": 14,
   "metadata": {},
   "outputs": [
    {
     "output_type": "execute_result",
     "data": {
      "text/plain": [
       "                   state  state_id   DEM_votes  REP_votes  normalized_election_outcome\n",
       "1                Alabama       1.0    843473.0  1434159.0                     0.370329\n",
       "2                 Alaska       2.0    143037.0   179080.0                     0.444053\n",
       "3                Arizona       4.0   1672054.0  1661677.0                     0.501556\n",
       "4               Arkansas       5.0    419258.0   758183.0                     0.356076\n",
       "5             California       6.0  10760110.0  5750654.0                     0.651703\n",
       "6               Colorado       8.0   1803873.0  1364160.0                     0.569398\n",
       "7            Connecticut       9.0   1080387.0   714973.0                     0.601766\n",
       "8               Delaware      10.0    296268.0   200603.0                     0.596267\n",
       "9   District of Columbia      11.0    307265.0    18172.0                     0.944161\n",
       "10               Florida      12.0   5294767.0  5667474.0                     0.483000\n",
       "11               Georgia      13.0   2472182.0  2458010.0                     0.501437\n",
       "12                Hawaii      15.0    366070.0   196800.0                     0.650363\n",
       "13                 Idaho      16.0    287031.0   554128.0                     0.341233\n",
       "14              Illinois      17.0   4148322.0  2788357.0                     0.598027\n",
       "15               Indiana      18.0   1241503.0  1729110.0                     0.417928\n",
       "16                  Iowa      19.0    758416.0   897149.0                     0.458101\n",
       "17                Kansas      20.0    551199.0   753370.0                     0.422514\n",
       "18              Kentucky      21.0    772223.0  1326347.0                     0.367976\n",
       "19             Louisiana      22.0    856034.0  1255776.0                     0.405356\n",
       "20                 Maine      23.0    423131.0   345488.0                     0.550508\n",
       "21              Maryland      24.0   1894321.0   955735.0                     0.664661\n",
       "22         Massachusetts      25.0   2271849.0  1131115.0                     0.667609\n",
       "23              Michigan      26.0   2795975.0  2648577.0                     0.513536\n",
       "24             Minnesota      27.0   1718739.0  1485345.0                     0.536421\n",
       "25           Mississippi      28.0    491224.0   731049.0                     0.401894\n",
       "26              Missouri      29.0   1242851.0  1711848.0                     0.420635\n",
       "27               Montana      30.0    244783.0   343590.0                     0.416034\n",
       "28              Nebraska      31.0    371918.0   553781.0                     0.401770\n",
       "29                Nevada      32.0    703486.0   669890.0                     0.512231\n",
       "30         New Hampshire      33.0    424937.0   365660.0                     0.537489\n",
       "31            New Jersey      34.0   2410404.0  1752127.0                     0.579072\n",
       "32            New Mexico      35.0    499782.0   401361.0                     0.554609\n",
       "33              New York      36.0   3777598.0  2876104.0                     0.567744\n",
       "34        North Carolina      37.0   2681124.0  2754822.0                     0.493221\n",
       "35          North Dakota      38.0    114901.0   235585.0                     0.327833\n",
       "36                  Ohio      39.0   2603677.0  3074400.0                     0.458549\n",
       "37              Oklahoma      40.0    503890.0  1020280.0                     0.330600\n",
       "38                Oregon      41.0   1333467.0   952435.0                     0.583344\n",
       "39          Pennsylvania      42.0   3417479.0  3351976.0                     0.504838\n",
       "40          Rhode Island      44.0    306192.0   199830.0                     0.605096\n",
       "41        South Carolina      45.0   1091541.0  1385103.0                     0.440734\n",
       "42          South Dakota      46.0    150471.0   261043.0                     0.365652\n",
       "43             Tennessee      47.0   1139376.0  1849820.0                     0.381165\n",
       "44                 Texas      48.0   5218943.0  5866019.0                     0.470813\n",
       "45                  Utah      49.0    554028.0   848863.0                     0.394919\n",
       "46               Vermont      50.0    242841.0   112591.0                     0.683228\n",
       "47              Virginia      51.0   4171766.0  2789429.0                     0.599289\n",
       "48            Washington      53.0   2356584.0  1572345.0                     0.599803\n",
       "49         West Virginia      54.0    235657.0   544826.0                     0.301937\n",
       "50             Wisconsin      55.0   1630619.0  1610073.0                     0.503170\n",
       "51               Wyoming      56.0     73491.0   193559.0                     0.275196"
      ],
      "text/html": "<div>\n<style scoped>\n    .dataframe tbody tr th:only-of-type {\n        vertical-align: middle;\n    }\n\n    .dataframe tbody tr th {\n        vertical-align: top;\n    }\n\n    .dataframe thead th {\n        text-align: right;\n    }\n</style>\n<table border=\"1\" class=\"dataframe\">\n  <thead>\n    <tr style=\"text-align: right;\">\n      <th></th>\n      <th>state</th>\n      <th>state_id</th>\n      <th>DEM_votes</th>\n      <th>REP_votes</th>\n      <th>normalized_election_outcome</th>\n    </tr>\n  </thead>\n  <tbody>\n    <tr>\n      <td>1</td>\n      <td>Alabama</td>\n      <td>1.0</td>\n      <td>843473.0</td>\n      <td>1434159.0</td>\n      <td>0.370329</td>\n    </tr>\n    <tr>\n      <td>2</td>\n      <td>Alaska</td>\n      <td>2.0</td>\n      <td>143037.0</td>\n      <td>179080.0</td>\n      <td>0.444053</td>\n    </tr>\n    <tr>\n      <td>3</td>\n      <td>Arizona</td>\n      <td>4.0</td>\n      <td>1672054.0</td>\n      <td>1661677.0</td>\n      <td>0.501556</td>\n    </tr>\n    <tr>\n      <td>4</td>\n      <td>Arkansas</td>\n      <td>5.0</td>\n      <td>419258.0</td>\n      <td>758183.0</td>\n      <td>0.356076</td>\n    </tr>\n    <tr>\n      <td>5</td>\n      <td>California</td>\n      <td>6.0</td>\n      <td>10760110.0</td>\n      <td>5750654.0</td>\n      <td>0.651703</td>\n    </tr>\n    <tr>\n      <td>6</td>\n      <td>Colorado</td>\n      <td>8.0</td>\n      <td>1803873.0</td>\n      <td>1364160.0</td>\n      <td>0.569398</td>\n    </tr>\n    <tr>\n      <td>7</td>\n      <td>Connecticut</td>\n      <td>9.0</td>\n      <td>1080387.0</td>\n      <td>714973.0</td>\n      <td>0.601766</td>\n    </tr>\n    <tr>\n      <td>8</td>\n      <td>Delaware</td>\n      <td>10.0</td>\n      <td>296268.0</td>\n      <td>200603.0</td>\n      <td>0.596267</td>\n    </tr>\n    <tr>\n      <td>9</td>\n      <td>District of Columbia</td>\n      <td>11.0</td>\n      <td>307265.0</td>\n      <td>18172.0</td>\n      <td>0.944161</td>\n    </tr>\n    <tr>\n      <td>10</td>\n      <td>Florida</td>\n      <td>12.0</td>\n      <td>5294767.0</td>\n      <td>5667474.0</td>\n      <td>0.483000</td>\n    </tr>\n    <tr>\n      <td>11</td>\n      <td>Georgia</td>\n      <td>13.0</td>\n      <td>2472182.0</td>\n      <td>2458010.0</td>\n      <td>0.501437</td>\n    </tr>\n    <tr>\n      <td>12</td>\n      <td>Hawaii</td>\n      <td>15.0</td>\n      <td>366070.0</td>\n      <td>196800.0</td>\n      <td>0.650363</td>\n    </tr>\n    <tr>\n      <td>13</td>\n      <td>Idaho</td>\n      <td>16.0</td>\n      <td>287031.0</td>\n      <td>554128.0</td>\n      <td>0.341233</td>\n    </tr>\n    <tr>\n      <td>14</td>\n      <td>Illinois</td>\n      <td>17.0</td>\n      <td>4148322.0</td>\n      <td>2788357.0</td>\n      <td>0.598027</td>\n    </tr>\n    <tr>\n      <td>15</td>\n      <td>Indiana</td>\n      <td>18.0</td>\n      <td>1241503.0</td>\n      <td>1729110.0</td>\n      <td>0.417928</td>\n    </tr>\n    <tr>\n      <td>16</td>\n      <td>Iowa</td>\n      <td>19.0</td>\n      <td>758416.0</td>\n      <td>897149.0</td>\n      <td>0.458101</td>\n    </tr>\n    <tr>\n      <td>17</td>\n      <td>Kansas</td>\n      <td>20.0</td>\n      <td>551199.0</td>\n      <td>753370.0</td>\n      <td>0.422514</td>\n    </tr>\n    <tr>\n      <td>18</td>\n      <td>Kentucky</td>\n      <td>21.0</td>\n      <td>772223.0</td>\n      <td>1326347.0</td>\n      <td>0.367976</td>\n    </tr>\n    <tr>\n      <td>19</td>\n      <td>Louisiana</td>\n      <td>22.0</td>\n      <td>856034.0</td>\n      <td>1255776.0</td>\n      <td>0.405356</td>\n    </tr>\n    <tr>\n      <td>20</td>\n      <td>Maine</td>\n      <td>23.0</td>\n      <td>423131.0</td>\n      <td>345488.0</td>\n      <td>0.550508</td>\n    </tr>\n    <tr>\n      <td>21</td>\n      <td>Maryland</td>\n      <td>24.0</td>\n      <td>1894321.0</td>\n      <td>955735.0</td>\n      <td>0.664661</td>\n    </tr>\n    <tr>\n      <td>22</td>\n      <td>Massachusetts</td>\n      <td>25.0</td>\n      <td>2271849.0</td>\n      <td>1131115.0</td>\n      <td>0.667609</td>\n    </tr>\n    <tr>\n      <td>23</td>\n      <td>Michigan</td>\n      <td>26.0</td>\n      <td>2795975.0</td>\n      <td>2648577.0</td>\n      <td>0.513536</td>\n    </tr>\n    <tr>\n      <td>24</td>\n      <td>Minnesota</td>\n      <td>27.0</td>\n      <td>1718739.0</td>\n      <td>1485345.0</td>\n      <td>0.536421</td>\n    </tr>\n    <tr>\n      <td>25</td>\n      <td>Mississippi</td>\n      <td>28.0</td>\n      <td>491224.0</td>\n      <td>731049.0</td>\n      <td>0.401894</td>\n    </tr>\n    <tr>\n      <td>26</td>\n      <td>Missouri</td>\n      <td>29.0</td>\n      <td>1242851.0</td>\n      <td>1711848.0</td>\n      <td>0.420635</td>\n    </tr>\n    <tr>\n      <td>27</td>\n      <td>Montana</td>\n      <td>30.0</td>\n      <td>244783.0</td>\n      <td>343590.0</td>\n      <td>0.416034</td>\n    </tr>\n    <tr>\n      <td>28</td>\n      <td>Nebraska</td>\n      <td>31.0</td>\n      <td>371918.0</td>\n      <td>553781.0</td>\n      <td>0.401770</td>\n    </tr>\n    <tr>\n      <td>29</td>\n      <td>Nevada</td>\n      <td>32.0</td>\n      <td>703486.0</td>\n      <td>669890.0</td>\n      <td>0.512231</td>\n    </tr>\n    <tr>\n      <td>30</td>\n      <td>New Hampshire</td>\n      <td>33.0</td>\n      <td>424937.0</td>\n      <td>365660.0</td>\n      <td>0.537489</td>\n    </tr>\n    <tr>\n      <td>31</td>\n      <td>New Jersey</td>\n      <td>34.0</td>\n      <td>2410404.0</td>\n      <td>1752127.0</td>\n      <td>0.579072</td>\n    </tr>\n    <tr>\n      <td>32</td>\n      <td>New Mexico</td>\n      <td>35.0</td>\n      <td>499782.0</td>\n      <td>401361.0</td>\n      <td>0.554609</td>\n    </tr>\n    <tr>\n      <td>33</td>\n      <td>New York</td>\n      <td>36.0</td>\n      <td>3777598.0</td>\n      <td>2876104.0</td>\n      <td>0.567744</td>\n    </tr>\n    <tr>\n      <td>34</td>\n      <td>North Carolina</td>\n      <td>37.0</td>\n      <td>2681124.0</td>\n      <td>2754822.0</td>\n      <td>0.493221</td>\n    </tr>\n    <tr>\n      <td>35</td>\n      <td>North Dakota</td>\n      <td>38.0</td>\n      <td>114901.0</td>\n      <td>235585.0</td>\n      <td>0.327833</td>\n    </tr>\n    <tr>\n      <td>36</td>\n      <td>Ohio</td>\n      <td>39.0</td>\n      <td>2603677.0</td>\n      <td>3074400.0</td>\n      <td>0.458549</td>\n    </tr>\n    <tr>\n      <td>37</td>\n      <td>Oklahoma</td>\n      <td>40.0</td>\n      <td>503890.0</td>\n      <td>1020280.0</td>\n      <td>0.330600</td>\n    </tr>\n    <tr>\n      <td>38</td>\n      <td>Oregon</td>\n      <td>41.0</td>\n      <td>1333467.0</td>\n      <td>952435.0</td>\n      <td>0.583344</td>\n    </tr>\n    <tr>\n      <td>39</td>\n      <td>Pennsylvania</td>\n      <td>42.0</td>\n      <td>3417479.0</td>\n      <td>3351976.0</td>\n      <td>0.504838</td>\n    </tr>\n    <tr>\n      <td>40</td>\n      <td>Rhode Island</td>\n      <td>44.0</td>\n      <td>306192.0</td>\n      <td>199830.0</td>\n      <td>0.605096</td>\n    </tr>\n    <tr>\n      <td>41</td>\n      <td>South Carolina</td>\n      <td>45.0</td>\n      <td>1091541.0</td>\n      <td>1385103.0</td>\n      <td>0.440734</td>\n    </tr>\n    <tr>\n      <td>42</td>\n      <td>South Dakota</td>\n      <td>46.0</td>\n      <td>150471.0</td>\n      <td>261043.0</td>\n      <td>0.365652</td>\n    </tr>\n    <tr>\n      <td>43</td>\n      <td>Tennessee</td>\n      <td>47.0</td>\n      <td>1139376.0</td>\n      <td>1849820.0</td>\n      <td>0.381165</td>\n    </tr>\n    <tr>\n      <td>44</td>\n      <td>Texas</td>\n      <td>48.0</td>\n      <td>5218943.0</td>\n      <td>5866019.0</td>\n      <td>0.470813</td>\n    </tr>\n    <tr>\n      <td>45</td>\n      <td>Utah</td>\n      <td>49.0</td>\n      <td>554028.0</td>\n      <td>848863.0</td>\n      <td>0.394919</td>\n    </tr>\n    <tr>\n      <td>46</td>\n      <td>Vermont</td>\n      <td>50.0</td>\n      <td>242841.0</td>\n      <td>112591.0</td>\n      <td>0.683228</td>\n    </tr>\n    <tr>\n      <td>47</td>\n      <td>Virginia</td>\n      <td>51.0</td>\n      <td>4171766.0</td>\n      <td>2789429.0</td>\n      <td>0.599289</td>\n    </tr>\n    <tr>\n      <td>48</td>\n      <td>Washington</td>\n      <td>53.0</td>\n      <td>2356584.0</td>\n      <td>1572345.0</td>\n      <td>0.599803</td>\n    </tr>\n    <tr>\n      <td>49</td>\n      <td>West Virginia</td>\n      <td>54.0</td>\n      <td>235657.0</td>\n      <td>544826.0</td>\n      <td>0.301937</td>\n    </tr>\n    <tr>\n      <td>50</td>\n      <td>Wisconsin</td>\n      <td>55.0</td>\n      <td>1630619.0</td>\n      <td>1610073.0</td>\n      <td>0.503170</td>\n    </tr>\n    <tr>\n      <td>51</td>\n      <td>Wyoming</td>\n      <td>56.0</td>\n      <td>73491.0</td>\n      <td>193559.0</td>\n      <td>0.275196</td>\n    </tr>\n  </tbody>\n</table>\n</div>"
     },
     "metadata": {},
     "execution_count": 14
    }
   ],
   "source": [
    "s_results \n"
   ]
  },
  {
   "cell_type": "markdown",
   "metadata": {},
   "source": [
    "### NEED SOME WORK FOR WEIGHTED AVERAGE"
   ]
  },
  {
   "cell_type": "code",
   "execution_count": 15,
   "metadata": {},
   "outputs": [
    {
     "output_type": "execute_result",
     "data": {
      "text/plain": [
       "State\n",
       "Alabama                  85052.526500\n",
       "Alaska                   29045.053217\n",
       "Arizona                 536780.607774\n",
       "Arkansas                 45512.761175\n",
       "California              759714.564592\n",
       "Colorado                104667.028150\n",
       "Connecticut             452467.621496\n",
       "Delaware                328418.178645\n",
       "District of Columbia    672391.000000\n",
       "Florida                 328009.341073\n",
       "Georgia                  81288.843396\n",
       "Hawaii                  312951.801911\n",
       "Idaho                    41917.211964\n",
       "Illinois                149863.480248\n",
       "Indiana                  73853.129842\n",
       "Iowa                     33685.296036\n",
       "Kansas                   31706.252247\n",
       "Kentucky                 42469.469863\n",
       "Louisiana                81081.338100\n",
       "Maine                    90348.393569\n",
       "Maryland                280782.108812\n",
       "Massachusetts           517320.187104\n",
       "Michigan                135826.429494\n",
       "Minnesota                74080.791981\n",
       "Mississippi              42143.596717\n",
       "Missouri                 62701.448805\n",
       "Montana                  19673.299853\n",
       "Nebraska                 22539.929697\n",
       "Nevada                  166337.923675\n",
       "New Hampshire           148517.370319\n",
       "New Jersey              428675.301537\n",
       "New Mexico               72759.601487\n",
       "New York                363523.207314\n",
       "North Carolina          116444.490149\n",
       "North Dakota             14518.857592\n",
       "Ohio                    136360.822767\n",
       "Oklahoma                 54760.616319\n",
       "Oregon                  132808.465708\n",
       "Pennsylvania            210746.096143\n",
       "Rhode Island            184178.262809\n",
       "South Carolina          124283.918034\n",
       "South Dakota             13940.801932\n",
       "Tennessee                80729.688415\n",
       "Texas                   126059.442181\n",
       "Utah                    114949.459633\n",
       "Vermont                  47083.916215\n",
       "Virginia                 84401.072232\n",
       "Washington              230799.887655\n",
       "West Virginia            35834.123269\n",
       "Wisconsin                85907.993543\n",
       "Wyoming                  26479.553454\n",
       "Name: wa, dtype: float64"
      ]
     },
     "metadata": {},
     "execution_count": 15
    }
   ],
   "source": [
    "g = demographics.groupby('State')\n",
    "demographics['wa']=demographics.Income / g.Income.transform(\"sum\") * demographics.TotalPop\n",
    "g.wa.sum()\n",
    "\n",
    "#Results Are too High. I must have made a mistake"
   ]
  },
  {
   "cell_type": "markdown",
   "metadata": {},
   "source": [
    "#### 3rd Try"
   ]
  },
  {
   "cell_type": "code",
   "execution_count": 16,
   "metadata": {},
   "outputs": [],
   "source": [
    "stateData = County_merged.copy()\n",
    "g = stateData.groupby('state')\n",
    "for state, group in g:\n",
    "    # Note that TotalPop should be aggregated last, as it is used in the wAvrg\n",
    "    sumAgg = ['Men','Women','TotalPop','DEM_votes','REP_votes']\n",
    "    wAvgAgg = ['normalized_election_outcome', 'IncomePerCap', 'Hispanic', 'White','Black','Native','Asian','Pacific', 'Poverty', 'ChildPoverty','Unemployment']\n",
    "    wMedian = ['Income']\n",
    "    for col in wMedian: \n",
    "        newVal = weighted_median(group, col)\n",
    "        stateData.loc[(stateData['state'] == state), col] = newVal\n",
    "    for col in wAvgAgg:  \n",
    "        newVal = wAvrgAggr(group, col)\n",
    "        stateData.loc[(stateData['state'] == state), col] = newVal\n",
    "    for col in sumAgg:\n",
    "        newVal = sumAggregation(group, col)\n",
    "        stateData.loc[(stateData['state'] == state), col] = newVal\n",
    "    \n",
    "    \n",
    "    \n",
    "    # And aggregate the\n",
    "stateData = stateData[['state','state_id','DEM_votes','REP_votes','normalized_election_outcome', 'TotalPop','Men','Women','Hispanic','White','Black','Native','Asian','Pacific','IncomePerCap', 'Income','Poverty','ChildPoverty','Unemployment']]\n",
    "stateData = stateData.drop_duplicates()\n",
    "stateData = stateData.sort_values(by=['state_id'])\n",
    "stateData['state_id'] = stateData['state_id'].astype(\"Int32\")\n",
    "stateData = stateData.reset_index(drop=True)\n"
   ]
  },
  {
   "cell_type": "code",
   "execution_count": 17,
   "metadata": {},
   "outputs": [
    {
     "output_type": "execute_result",
     "data": {
      "text/plain": [
       "                   state  state_id   DEM_votes  REP_votes  normalized_election_outcome  TotalPop       Men     Women   Hispanic      White      Black     Native      Asian   Pacific  IncomePerCap  Income    Poverty  ChildPoverty  Unemployment\n",
       "50               Wyoming        56     73491.0   193559.0                     0.269685    583200    298301    284899   9.718460  84.302438   0.989222   2.043968   0.843658  0.066466  31213.715370   60828  11.178200     12.607930      4.734684\n",
       "48         West Virginia        54    235657.0   544826.0                     0.301150   1836843    907621    929222   1.477566  92.266418   3.513424   0.170910   0.754655  0.020222  24774.033985   42573  17.799084     24.562214      7.310871\n",
       "12                 Idaho        16    287031.0   554128.0                     0.331605   1657375    830627    826748  12.203475  82.534259   0.633074   1.079033   1.332112  0.119549  25471.297107   51583  14.522345     17.839987      5.386718\n",
       "36              Oklahoma        40    503890.0  1020280.0                     0.332706   3896251   1930615   1965636  10.128892  66.442280   7.150630   7.105878   2.044448  0.147966  26460.557440   50762  16.231372     22.435563      5.749234\n",
       "34          North Dakota        38    114901.0   235585.0                     0.333798    745475    382121    363354   3.333944  85.690489   2.288784   5.195080   1.346852  0.025908  34256.182592   58767  11.035536     11.836304      2.769410\n",
       "3               Arkansas         5    419258.0   758183.0                     0.357242   2977944   1461651   1516293   7.166490  73.007492  15.357785   0.572804   1.412328  0.227613  24426.218718   43504  18.178289     25.837504      6.361166\n",
       "17              Kentucky        21    772223.0  1326347.0                     0.363287   4424376   2179025   2245351   3.442232  85.078763   7.867669   0.179028   1.346071  0.030058  25888.479805   49508  18.312652     24.874913      6.980947\n",
       "41          South Dakota        46    147642.0   260746.0                     0.367546    841153    423653    417500   3.505548  84.015425   1.687188   6.914042   1.383055  0.035296  29090.952216   53807  13.271957     16.679114      3.708207\n",
       "0                Alabama         1    843473.0  1434159.0                     0.370542   4850771   2350806   2499965   4.090538  65.925899  26.394896   0.468075   1.271648  0.019180  25746.341350   46545  17.974093     25.944204      7.552098\n",
       "42             Tennessee        47   1139376.0  1849820.0                     0.386097   6597381   3217073   3380308   5.159686  74.259381  16.670895   0.222115   1.661378  0.044504  27276.787720   48415  16.689894     24.431924      6.669851\n",
       "44                  Utah        49    554028.0   848863.0                     0.393963   2993941   1506614   1487327  13.672020  79.016143   1.066474   0.934636   2.247690  0.879789  26906.687780   67922  11.012936     12.702307      4.385689\n",
       "27              Nebraska        31    371918.0   553781.0                     0.403210   1893921    943547    950374  10.453757  79.827540   4.598834   0.674660   2.207346  0.061904  29866.159619   55875  11.999533     15.573928      3.792164\n",
       "18             Louisiana        22    855396.0  1249398.0                     0.406979   4648531   2273548   2374983   4.981066  58.941349  32.025095   0.523850   1.725974  0.013095  26228.488276   47650  19.634566     27.920396      7.250914\n",
       "24           Mississippi        28    491224.0   731049.0                     0.412254   2986220   1448717   1537503   2.951386  57.005620  37.460494   0.417218   0.963151  0.010080  22499.699486   41011  21.553624     30.130170      8.972633\n",
       "26               Montana        30    244783.0   343590.0                     0.414555   1029862    517860    512002   3.545511  86.612015   0.406487   6.230019   0.703705  0.045767  28706.007227   51136  14.348855     17.132415      4.904835\n",
       "25              Missouri        29   1242851.0  1711848.0                     0.418857   6075300   2981332   3093968   4.025694  79.818819  11.492803   0.378201   1.847054  0.093384  28282.130119   50652  14.651143     20.213940      5.850764\n",
       "16                Kansas        20    551199.0   753370.0                     0.420033   2903820   1445980   1457840  11.528087  76.455506   5.637230   0.650876   2.747633  0.040505  29599.446981   52841  12.854312     16.200714      4.811665\n",
       "14               Indiana        18   1241503.0  1729110.0                     0.421371   6614418   3258279   3356139   6.684689  79.835400   9.134696   0.192052   2.065639  0.015314  27304.710573   51091  14.619082     20.596298      6.096123\n",
       "40        South Carolina        45   1091541.0  1385103.0                     0.442662   4893444   2376759   2516685   5.450954  63.767284  27.001799   0.268418   1.451611  0.060833  26645.378782   47713  16.662713     24.689757      7.337400\n",
       "1                 Alaska         2   4148073.0  5193320.0                     0.444053    738565    386319    352246   6.812066  61.543834   3.025472  13.762591   6.061671  1.171835  35064.423431   76250  10.176225     13.532853      8.006877\n",
       "15                  Iowa        19    758416.0   897149.0                     0.456251   3118102   1548035   1570067   5.717858  86.499217   3.344137   0.278923   2.266454  0.091208  30062.564174   57681  12.022248     14.749239      4.150382\n",
       "35                  Ohio        39   2603677.0  3074400.0                     0.459184  11609756   5686081   5923675   3.566377  79.626281  12.147871   0.136138   2.015854  0.016093  29011.000136   52389  14.940657     21.533192      6.484779\n",
       "43                 Texas        48   5218943.0  5866019.0                     0.480434  27419612  13616977  13802635  38.930110  42.857946  11.666645   0.254562   4.465216  0.078672  28984.910197   57791  16.037567     22.556185      5.894349\n",
       "29         New Hampshire        33     12357.0    11675.0                     0.481753    860758    425526    435232   4.017063  89.440114   1.466663   0.126423   2.989703  0.010372  35662.960750   69856   8.889340     10.831940      4.460132\n",
       "9                Florida        12   5294767.0  5667474.0                     0.489813  20278447   9914361  10364086  24.747791  54.863623  15.423255   0.213137   2.633063  0.039642  28773.663009   51296  15.491542     22.249154      7.219904\n",
       "33        North Carolina        37   2681124.0  2754822.0                     0.490022  10052564   4895368   5157196   9.098959  63.640906  21.164395   1.088231   2.656211  0.033533  28123.130453   49253  16.172144     23.054679      7.272911\n",
       "2                Arizona         4   1672054.0  1661677.0                     0.501547   6809946   3385055   3424891  30.887945  55.588157   4.069675   3.888247   3.059985  0.174515  27963.445162   58580  16.952275     23.992275      7.209409\n",
       "10               Georgia        13   2472182.0  2458010.0                     0.503502  10201635   4968887   5232748   9.320668  53.619578  30.884127   0.182093   3.791699  0.029790  28014.725088   55876  17.002924     24.399420      7.545349\n",
       "38          Pennsylvania        42   3417479.0  3351976.0                     0.504615  12790505   6260160   6530345   6.838320  77.252476  10.614273   0.118171   3.232923  0.002082  31476.449955   56702  13.132569     18.570667      6.519947\n",
       "49             Wisconsin        55   1630619.0  1610073.0                     0.506911   5763217   2864115   2899102   6.608681  81.819313   6.244000   0.810558   2.632007  0.011713  30557.043705   56038  12.346501     16.446009      4.750824\n",
       "28                Nevada        32    690751.0   653777.0                     0.516702   2833506   1422297   1411209  28.303713  50.110715   8.528062   0.827036   8.025107  0.637679  28457.505171   54882  14.223837     20.234435      8.011971\n",
       "22              Michigan        26   2795975.0  2648577.0                     0.517015   9925568   4880579   5044989   4.882855  75.493297  13.685797   0.452404   2.893829  0.007738  28937.488965   51339  15.585182     21.563074      7.524754\n",
       "31            New Mexico        35    451824.0   368561.0                     0.533623   1870979    926992    943987  45.934180  39.346263   1.798907   9.621450   1.367658  0.061817  25737.503264   50386  19.772997     27.379582      7.693209\n",
       "23             Minnesota        27   1718739.0  1485345.0                     0.535102   5490726   2731831   2758895   5.191382  80.765019   5.849248   0.940233   4.642012  0.010800  34711.758129   71154  10.491334     13.612018      4.308341\n",
       "19                 Maine        23     18269.0    15974.0                     0.546731   1650411    809823    840588   1.468726  93.791069   1.029760   0.823275   1.068197  0.015386  29053.027007   47886  13.368833     16.664375      5.656235\n",
       "46              Virginia        51   6471953.0  3819343.0                     0.566670  19933878   9789500  10144378  11.264747  57.583718  16.930114   0.155871  10.637884  0.026406  41782.891429  103005  10.627245     15.030648      5.412562\n",
       "5               Colorado         8   1803873.0  1364160.0                     0.568276   5436519   2731315   2705204  21.287204  68.649807   3.873329   0.525543   2.967554  0.151255  34845.269500   64980  11.543312     14.712617      5.353002\n",
       "45               Vermont        50     22708.0    11808.0                     0.581314    541918    266622    275296   1.845637  92.940345   1.261801   0.259236   1.687713  0.023568  32605.792299   60602  11.051130     14.110427      4.405048\n",
       "37                Oregon        41   1333467.0   952435.0                     0.582056   4025127   1993822   2031305  12.651706  76.499756   1.804868   0.864734   4.091233  0.362036  30410.058105   58392  14.909070     19.122160      6.905811\n",
       "13              Illinois        17   3398423.0  2420846.0                     0.591617  12850365   6310429   6539936  16.842842  61.889648  14.054172   0.118039   5.179556  0.005085  32928.595123   59426  13.535183     19.066286      7.364239\n",
       "30            New Jersey        34   2410404.0  1752127.0                     0.594750   8960161   4372321   4587840  19.690660  56.067648  12.680542   0.089135   9.346134  0.007586  39069.193500   77027  10.685867     15.137020      6.980717\n",
       "47            Washington        53   2356584.0  1572345.0                     0.595873   7169967   3580888   3589079  12.312243  69.757975   3.504902   1.114846   8.000001  0.634294  34869.177067   67832  12.250295     15.525026      6.101114\n",
       "32              New York        36   3777598.0  2876104.0                     0.596557  19798228   9604111  10194117  18.819923  55.947459  14.367389   0.208437   8.266207  0.005213  35752.385607   62008  15.088008     20.961403      6.804255\n",
       "7               Delaware        10    296268.0   200603.0                     0.601495    943732    456876    486856   8.994927  63.016373  21.359167   0.319068   3.816916  0.000000  32625.371345   68336  12.124656     17.477845      6.445333\n",
       "21         Massachusetts        25    108980.0    60810.0                     0.621635   3562538   1727508   1835030  11.508252  76.126087   5.386074   0.144503   4.416087  0.008301  38649.645271   73533  10.300373     14.100352      6.148171\n",
       "4             California         6  10760110.0  5750654.0                     0.647835  38982847  19366579  19616268  38.751217  37.909617   5.547530   0.356283  13.929404  0.346743  33127.865984   61015  15.118114     20.242040      7.768742\n",
       "11                Hawaii        15    366070.0   196800.0                     0.649244   1421572    713940    707632  10.222118  22.209209   1.707785   0.123812  37.016158  9.212940  32510.203321   80078  10.350153     12.920177      4.858811\n",
       "20              Maryland        24   1894321.0   955735.0                     0.678412   5996079   2906277   3089802   9.564325  51.849489  29.263786   0.179895   6.191875  0.019309  39069.993362   78607   9.741435     13.214803      6.172815\n",
       "6            Connecticut         9    106736.0    33713.0                     0.759002   3430368   1673819   1756549  15.798777  67.239052   9.992411   0.123753   4.361071  0.000000  41254.139681   69936  10.213096     13.757220      7.359870\n",
       "39          Rhode Island        44     60617.0    17442.0                     0.796604    765936    372089    393847  18.652112  66.737728   7.038840   0.363533   3.737454  0.093599  31462.196178   52530  15.242643     21.865680      7.143377\n",
       "8   District of Columbia        11    307265.0    18172.0                     0.944161    672391    319046    353345  10.700000  36.000000  46.900000   0.200000   3.700000  0.000000  50832.000000   77649  17.400000     25.500000      8.000000"
      ],
      "text/html": "<div>\n<style scoped>\n    .dataframe tbody tr th:only-of-type {\n        vertical-align: middle;\n    }\n\n    .dataframe tbody tr th {\n        vertical-align: top;\n    }\n\n    .dataframe thead th {\n        text-align: right;\n    }\n</style>\n<table border=\"1\" class=\"dataframe\">\n  <thead>\n    <tr style=\"text-align: right;\">\n      <th></th>\n      <th>state</th>\n      <th>state_id</th>\n      <th>DEM_votes</th>\n      <th>REP_votes</th>\n      <th>normalized_election_outcome</th>\n      <th>TotalPop</th>\n      <th>Men</th>\n      <th>Women</th>\n      <th>Hispanic</th>\n      <th>White</th>\n      <th>Black</th>\n      <th>Native</th>\n      <th>Asian</th>\n      <th>Pacific</th>\n      <th>IncomePerCap</th>\n      <th>Income</th>\n      <th>Poverty</th>\n      <th>ChildPoverty</th>\n      <th>Unemployment</th>\n    </tr>\n  </thead>\n  <tbody>\n    <tr>\n      <td>50</td>\n      <td>Wyoming</td>\n      <td>56</td>\n      <td>73491.0</td>\n      <td>193559.0</td>\n      <td>0.269685</td>\n      <td>583200</td>\n      <td>298301</td>\n      <td>284899</td>\n      <td>9.718460</td>\n      <td>84.302438</td>\n      <td>0.989222</td>\n      <td>2.043968</td>\n      <td>0.843658</td>\n      <td>0.066466</td>\n      <td>31213.715370</td>\n      <td>60828</td>\n      <td>11.178200</td>\n      <td>12.607930</td>\n      <td>4.734684</td>\n    </tr>\n    <tr>\n      <td>48</td>\n      <td>West Virginia</td>\n      <td>54</td>\n      <td>235657.0</td>\n      <td>544826.0</td>\n      <td>0.301150</td>\n      <td>1836843</td>\n      <td>907621</td>\n      <td>929222</td>\n      <td>1.477566</td>\n      <td>92.266418</td>\n      <td>3.513424</td>\n      <td>0.170910</td>\n      <td>0.754655</td>\n      <td>0.020222</td>\n      <td>24774.033985</td>\n      <td>42573</td>\n      <td>17.799084</td>\n      <td>24.562214</td>\n      <td>7.310871</td>\n    </tr>\n    <tr>\n      <td>12</td>\n      <td>Idaho</td>\n      <td>16</td>\n      <td>287031.0</td>\n      <td>554128.0</td>\n      <td>0.331605</td>\n      <td>1657375</td>\n      <td>830627</td>\n      <td>826748</td>\n      <td>12.203475</td>\n      <td>82.534259</td>\n      <td>0.633074</td>\n      <td>1.079033</td>\n      <td>1.332112</td>\n      <td>0.119549</td>\n      <td>25471.297107</td>\n      <td>51583</td>\n      <td>14.522345</td>\n      <td>17.839987</td>\n      <td>5.386718</td>\n    </tr>\n    <tr>\n      <td>36</td>\n      <td>Oklahoma</td>\n      <td>40</td>\n      <td>503890.0</td>\n      <td>1020280.0</td>\n      <td>0.332706</td>\n      <td>3896251</td>\n      <td>1930615</td>\n      <td>1965636</td>\n      <td>10.128892</td>\n      <td>66.442280</td>\n      <td>7.150630</td>\n      <td>7.105878</td>\n      <td>2.044448</td>\n      <td>0.147966</td>\n      <td>26460.557440</td>\n      <td>50762</td>\n      <td>16.231372</td>\n      <td>22.435563</td>\n      <td>5.749234</td>\n    </tr>\n    <tr>\n      <td>34</td>\n      <td>North Dakota</td>\n      <td>38</td>\n      <td>114901.0</td>\n      <td>235585.0</td>\n      <td>0.333798</td>\n      <td>745475</td>\n      <td>382121</td>\n      <td>363354</td>\n      <td>3.333944</td>\n      <td>85.690489</td>\n      <td>2.288784</td>\n      <td>5.195080</td>\n      <td>1.346852</td>\n      <td>0.025908</td>\n      <td>34256.182592</td>\n      <td>58767</td>\n      <td>11.035536</td>\n      <td>11.836304</td>\n      <td>2.769410</td>\n    </tr>\n    <tr>\n      <td>3</td>\n      <td>Arkansas</td>\n      <td>5</td>\n      <td>419258.0</td>\n      <td>758183.0</td>\n      <td>0.357242</td>\n      <td>2977944</td>\n      <td>1461651</td>\n      <td>1516293</td>\n      <td>7.166490</td>\n      <td>73.007492</td>\n      <td>15.357785</td>\n      <td>0.572804</td>\n      <td>1.412328</td>\n      <td>0.227613</td>\n      <td>24426.218718</td>\n      <td>43504</td>\n      <td>18.178289</td>\n      <td>25.837504</td>\n      <td>6.361166</td>\n    </tr>\n    <tr>\n      <td>17</td>\n      <td>Kentucky</td>\n      <td>21</td>\n      <td>772223.0</td>\n      <td>1326347.0</td>\n      <td>0.363287</td>\n      <td>4424376</td>\n      <td>2179025</td>\n      <td>2245351</td>\n      <td>3.442232</td>\n      <td>85.078763</td>\n      <td>7.867669</td>\n      <td>0.179028</td>\n      <td>1.346071</td>\n      <td>0.030058</td>\n      <td>25888.479805</td>\n      <td>49508</td>\n      <td>18.312652</td>\n      <td>24.874913</td>\n      <td>6.980947</td>\n    </tr>\n    <tr>\n      <td>41</td>\n      <td>South Dakota</td>\n      <td>46</td>\n      <td>147642.0</td>\n      <td>260746.0</td>\n      <td>0.367546</td>\n      <td>841153</td>\n      <td>423653</td>\n      <td>417500</td>\n      <td>3.505548</td>\n      <td>84.015425</td>\n      <td>1.687188</td>\n      <td>6.914042</td>\n      <td>1.383055</td>\n      <td>0.035296</td>\n      <td>29090.952216</td>\n      <td>53807</td>\n      <td>13.271957</td>\n      <td>16.679114</td>\n      <td>3.708207</td>\n    </tr>\n    <tr>\n      <td>0</td>\n      <td>Alabama</td>\n      <td>1</td>\n      <td>843473.0</td>\n      <td>1434159.0</td>\n      <td>0.370542</td>\n      <td>4850771</td>\n      <td>2350806</td>\n      <td>2499965</td>\n      <td>4.090538</td>\n      <td>65.925899</td>\n      <td>26.394896</td>\n      <td>0.468075</td>\n      <td>1.271648</td>\n      <td>0.019180</td>\n      <td>25746.341350</td>\n      <td>46545</td>\n      <td>17.974093</td>\n      <td>25.944204</td>\n      <td>7.552098</td>\n    </tr>\n    <tr>\n      <td>42</td>\n      <td>Tennessee</td>\n      <td>47</td>\n      <td>1139376.0</td>\n      <td>1849820.0</td>\n      <td>0.386097</td>\n      <td>6597381</td>\n      <td>3217073</td>\n      <td>3380308</td>\n      <td>5.159686</td>\n      <td>74.259381</td>\n      <td>16.670895</td>\n      <td>0.222115</td>\n      <td>1.661378</td>\n      <td>0.044504</td>\n      <td>27276.787720</td>\n      <td>48415</td>\n      <td>16.689894</td>\n      <td>24.431924</td>\n      <td>6.669851</td>\n    </tr>\n    <tr>\n      <td>44</td>\n      <td>Utah</td>\n      <td>49</td>\n      <td>554028.0</td>\n      <td>848863.0</td>\n      <td>0.393963</td>\n      <td>2993941</td>\n      <td>1506614</td>\n      <td>1487327</td>\n      <td>13.672020</td>\n      <td>79.016143</td>\n      <td>1.066474</td>\n      <td>0.934636</td>\n      <td>2.247690</td>\n      <td>0.879789</td>\n      <td>26906.687780</td>\n      <td>67922</td>\n      <td>11.012936</td>\n      <td>12.702307</td>\n      <td>4.385689</td>\n    </tr>\n    <tr>\n      <td>27</td>\n      <td>Nebraska</td>\n      <td>31</td>\n      <td>371918.0</td>\n      <td>553781.0</td>\n      <td>0.403210</td>\n      <td>1893921</td>\n      <td>943547</td>\n      <td>950374</td>\n      <td>10.453757</td>\n      <td>79.827540</td>\n      <td>4.598834</td>\n      <td>0.674660</td>\n      <td>2.207346</td>\n      <td>0.061904</td>\n      <td>29866.159619</td>\n      <td>55875</td>\n      <td>11.999533</td>\n      <td>15.573928</td>\n      <td>3.792164</td>\n    </tr>\n    <tr>\n      <td>18</td>\n      <td>Louisiana</td>\n      <td>22</td>\n      <td>855396.0</td>\n      <td>1249398.0</td>\n      <td>0.406979</td>\n      <td>4648531</td>\n      <td>2273548</td>\n      <td>2374983</td>\n      <td>4.981066</td>\n      <td>58.941349</td>\n      <td>32.025095</td>\n      <td>0.523850</td>\n      <td>1.725974</td>\n      <td>0.013095</td>\n      <td>26228.488276</td>\n      <td>47650</td>\n      <td>19.634566</td>\n      <td>27.920396</td>\n      <td>7.250914</td>\n    </tr>\n    <tr>\n      <td>24</td>\n      <td>Mississippi</td>\n      <td>28</td>\n      <td>491224.0</td>\n      <td>731049.0</td>\n      <td>0.412254</td>\n      <td>2986220</td>\n      <td>1448717</td>\n      <td>1537503</td>\n      <td>2.951386</td>\n      <td>57.005620</td>\n      <td>37.460494</td>\n      <td>0.417218</td>\n      <td>0.963151</td>\n      <td>0.010080</td>\n      <td>22499.699486</td>\n      <td>41011</td>\n      <td>21.553624</td>\n      <td>30.130170</td>\n      <td>8.972633</td>\n    </tr>\n    <tr>\n      <td>26</td>\n      <td>Montana</td>\n      <td>30</td>\n      <td>244783.0</td>\n      <td>343590.0</td>\n      <td>0.414555</td>\n      <td>1029862</td>\n      <td>517860</td>\n      <td>512002</td>\n      <td>3.545511</td>\n      <td>86.612015</td>\n      <td>0.406487</td>\n      <td>6.230019</td>\n      <td>0.703705</td>\n      <td>0.045767</td>\n      <td>28706.007227</td>\n      <td>51136</td>\n      <td>14.348855</td>\n      <td>17.132415</td>\n      <td>4.904835</td>\n    </tr>\n    <tr>\n      <td>25</td>\n      <td>Missouri</td>\n      <td>29</td>\n      <td>1242851.0</td>\n      <td>1711848.0</td>\n      <td>0.418857</td>\n      <td>6075300</td>\n      <td>2981332</td>\n      <td>3093968</td>\n      <td>4.025694</td>\n      <td>79.818819</td>\n      <td>11.492803</td>\n      <td>0.378201</td>\n      <td>1.847054</td>\n      <td>0.093384</td>\n      <td>28282.130119</td>\n      <td>50652</td>\n      <td>14.651143</td>\n      <td>20.213940</td>\n      <td>5.850764</td>\n    </tr>\n    <tr>\n      <td>16</td>\n      <td>Kansas</td>\n      <td>20</td>\n      <td>551199.0</td>\n      <td>753370.0</td>\n      <td>0.420033</td>\n      <td>2903820</td>\n      <td>1445980</td>\n      <td>1457840</td>\n      <td>11.528087</td>\n      <td>76.455506</td>\n      <td>5.637230</td>\n      <td>0.650876</td>\n      <td>2.747633</td>\n      <td>0.040505</td>\n      <td>29599.446981</td>\n      <td>52841</td>\n      <td>12.854312</td>\n      <td>16.200714</td>\n      <td>4.811665</td>\n    </tr>\n    <tr>\n      <td>14</td>\n      <td>Indiana</td>\n      <td>18</td>\n      <td>1241503.0</td>\n      <td>1729110.0</td>\n      <td>0.421371</td>\n      <td>6614418</td>\n      <td>3258279</td>\n      <td>3356139</td>\n      <td>6.684689</td>\n      <td>79.835400</td>\n      <td>9.134696</td>\n      <td>0.192052</td>\n      <td>2.065639</td>\n      <td>0.015314</td>\n      <td>27304.710573</td>\n      <td>51091</td>\n      <td>14.619082</td>\n      <td>20.596298</td>\n      <td>6.096123</td>\n    </tr>\n    <tr>\n      <td>40</td>\n      <td>South Carolina</td>\n      <td>45</td>\n      <td>1091541.0</td>\n      <td>1385103.0</td>\n      <td>0.442662</td>\n      <td>4893444</td>\n      <td>2376759</td>\n      <td>2516685</td>\n      <td>5.450954</td>\n      <td>63.767284</td>\n      <td>27.001799</td>\n      <td>0.268418</td>\n      <td>1.451611</td>\n      <td>0.060833</td>\n      <td>26645.378782</td>\n      <td>47713</td>\n      <td>16.662713</td>\n      <td>24.689757</td>\n      <td>7.337400</td>\n    </tr>\n    <tr>\n      <td>1</td>\n      <td>Alaska</td>\n      <td>2</td>\n      <td>4148073.0</td>\n      <td>5193320.0</td>\n      <td>0.444053</td>\n      <td>738565</td>\n      <td>386319</td>\n      <td>352246</td>\n      <td>6.812066</td>\n      <td>61.543834</td>\n      <td>3.025472</td>\n      <td>13.762591</td>\n      <td>6.061671</td>\n      <td>1.171835</td>\n      <td>35064.423431</td>\n      <td>76250</td>\n      <td>10.176225</td>\n      <td>13.532853</td>\n      <td>8.006877</td>\n    </tr>\n    <tr>\n      <td>15</td>\n      <td>Iowa</td>\n      <td>19</td>\n      <td>758416.0</td>\n      <td>897149.0</td>\n      <td>0.456251</td>\n      <td>3118102</td>\n      <td>1548035</td>\n      <td>1570067</td>\n      <td>5.717858</td>\n      <td>86.499217</td>\n      <td>3.344137</td>\n      <td>0.278923</td>\n      <td>2.266454</td>\n      <td>0.091208</td>\n      <td>30062.564174</td>\n      <td>57681</td>\n      <td>12.022248</td>\n      <td>14.749239</td>\n      <td>4.150382</td>\n    </tr>\n    <tr>\n      <td>35</td>\n      <td>Ohio</td>\n      <td>39</td>\n      <td>2603677.0</td>\n      <td>3074400.0</td>\n      <td>0.459184</td>\n      <td>11609756</td>\n      <td>5686081</td>\n      <td>5923675</td>\n      <td>3.566377</td>\n      <td>79.626281</td>\n      <td>12.147871</td>\n      <td>0.136138</td>\n      <td>2.015854</td>\n      <td>0.016093</td>\n      <td>29011.000136</td>\n      <td>52389</td>\n      <td>14.940657</td>\n      <td>21.533192</td>\n      <td>6.484779</td>\n    </tr>\n    <tr>\n      <td>43</td>\n      <td>Texas</td>\n      <td>48</td>\n      <td>5218943.0</td>\n      <td>5866019.0</td>\n      <td>0.480434</td>\n      <td>27419612</td>\n      <td>13616977</td>\n      <td>13802635</td>\n      <td>38.930110</td>\n      <td>42.857946</td>\n      <td>11.666645</td>\n      <td>0.254562</td>\n      <td>4.465216</td>\n      <td>0.078672</td>\n      <td>28984.910197</td>\n      <td>57791</td>\n      <td>16.037567</td>\n      <td>22.556185</td>\n      <td>5.894349</td>\n    </tr>\n    <tr>\n      <td>29</td>\n      <td>New Hampshire</td>\n      <td>33</td>\n      <td>12357.0</td>\n      <td>11675.0</td>\n      <td>0.481753</td>\n      <td>860758</td>\n      <td>425526</td>\n      <td>435232</td>\n      <td>4.017063</td>\n      <td>89.440114</td>\n      <td>1.466663</td>\n      <td>0.126423</td>\n      <td>2.989703</td>\n      <td>0.010372</td>\n      <td>35662.960750</td>\n      <td>69856</td>\n      <td>8.889340</td>\n      <td>10.831940</td>\n      <td>4.460132</td>\n    </tr>\n    <tr>\n      <td>9</td>\n      <td>Florida</td>\n      <td>12</td>\n      <td>5294767.0</td>\n      <td>5667474.0</td>\n      <td>0.489813</td>\n      <td>20278447</td>\n      <td>9914361</td>\n      <td>10364086</td>\n      <td>24.747791</td>\n      <td>54.863623</td>\n      <td>15.423255</td>\n      <td>0.213137</td>\n      <td>2.633063</td>\n      <td>0.039642</td>\n      <td>28773.663009</td>\n      <td>51296</td>\n      <td>15.491542</td>\n      <td>22.249154</td>\n      <td>7.219904</td>\n    </tr>\n    <tr>\n      <td>33</td>\n      <td>North Carolina</td>\n      <td>37</td>\n      <td>2681124.0</td>\n      <td>2754822.0</td>\n      <td>0.490022</td>\n      <td>10052564</td>\n      <td>4895368</td>\n      <td>5157196</td>\n      <td>9.098959</td>\n      <td>63.640906</td>\n      <td>21.164395</td>\n      <td>1.088231</td>\n      <td>2.656211</td>\n      <td>0.033533</td>\n      <td>28123.130453</td>\n      <td>49253</td>\n      <td>16.172144</td>\n      <td>23.054679</td>\n      <td>7.272911</td>\n    </tr>\n    <tr>\n      <td>2</td>\n      <td>Arizona</td>\n      <td>4</td>\n      <td>1672054.0</td>\n      <td>1661677.0</td>\n      <td>0.501547</td>\n      <td>6809946</td>\n      <td>3385055</td>\n      <td>3424891</td>\n      <td>30.887945</td>\n      <td>55.588157</td>\n      <td>4.069675</td>\n      <td>3.888247</td>\n      <td>3.059985</td>\n      <td>0.174515</td>\n      <td>27963.445162</td>\n      <td>58580</td>\n      <td>16.952275</td>\n      <td>23.992275</td>\n      <td>7.209409</td>\n    </tr>\n    <tr>\n      <td>10</td>\n      <td>Georgia</td>\n      <td>13</td>\n      <td>2472182.0</td>\n      <td>2458010.0</td>\n      <td>0.503502</td>\n      <td>10201635</td>\n      <td>4968887</td>\n      <td>5232748</td>\n      <td>9.320668</td>\n      <td>53.619578</td>\n      <td>30.884127</td>\n      <td>0.182093</td>\n      <td>3.791699</td>\n      <td>0.029790</td>\n      <td>28014.725088</td>\n      <td>55876</td>\n      <td>17.002924</td>\n      <td>24.399420</td>\n      <td>7.545349</td>\n    </tr>\n    <tr>\n      <td>38</td>\n      <td>Pennsylvania</td>\n      <td>42</td>\n      <td>3417479.0</td>\n      <td>3351976.0</td>\n      <td>0.504615</td>\n      <td>12790505</td>\n      <td>6260160</td>\n      <td>6530345</td>\n      <td>6.838320</td>\n      <td>77.252476</td>\n      <td>10.614273</td>\n      <td>0.118171</td>\n      <td>3.232923</td>\n      <td>0.002082</td>\n      <td>31476.449955</td>\n      <td>56702</td>\n      <td>13.132569</td>\n      <td>18.570667</td>\n      <td>6.519947</td>\n    </tr>\n    <tr>\n      <td>49</td>\n      <td>Wisconsin</td>\n      <td>55</td>\n      <td>1630619.0</td>\n      <td>1610073.0</td>\n      <td>0.506911</td>\n      <td>5763217</td>\n      <td>2864115</td>\n      <td>2899102</td>\n      <td>6.608681</td>\n      <td>81.819313</td>\n      <td>6.244000</td>\n      <td>0.810558</td>\n      <td>2.632007</td>\n      <td>0.011713</td>\n      <td>30557.043705</td>\n      <td>56038</td>\n      <td>12.346501</td>\n      <td>16.446009</td>\n      <td>4.750824</td>\n    </tr>\n    <tr>\n      <td>28</td>\n      <td>Nevada</td>\n      <td>32</td>\n      <td>690751.0</td>\n      <td>653777.0</td>\n      <td>0.516702</td>\n      <td>2833506</td>\n      <td>1422297</td>\n      <td>1411209</td>\n      <td>28.303713</td>\n      <td>50.110715</td>\n      <td>8.528062</td>\n      <td>0.827036</td>\n      <td>8.025107</td>\n      <td>0.637679</td>\n      <td>28457.505171</td>\n      <td>54882</td>\n      <td>14.223837</td>\n      <td>20.234435</td>\n      <td>8.011971</td>\n    </tr>\n    <tr>\n      <td>22</td>\n      <td>Michigan</td>\n      <td>26</td>\n      <td>2795975.0</td>\n      <td>2648577.0</td>\n      <td>0.517015</td>\n      <td>9925568</td>\n      <td>4880579</td>\n      <td>5044989</td>\n      <td>4.882855</td>\n      <td>75.493297</td>\n      <td>13.685797</td>\n      <td>0.452404</td>\n      <td>2.893829</td>\n      <td>0.007738</td>\n      <td>28937.488965</td>\n      <td>51339</td>\n      <td>15.585182</td>\n      <td>21.563074</td>\n      <td>7.524754</td>\n    </tr>\n    <tr>\n      <td>31</td>\n      <td>New Mexico</td>\n      <td>35</td>\n      <td>451824.0</td>\n      <td>368561.0</td>\n      <td>0.533623</td>\n      <td>1870979</td>\n      <td>926992</td>\n      <td>943987</td>\n      <td>45.934180</td>\n      <td>39.346263</td>\n      <td>1.798907</td>\n      <td>9.621450</td>\n      <td>1.367658</td>\n      <td>0.061817</td>\n      <td>25737.503264</td>\n      <td>50386</td>\n      <td>19.772997</td>\n      <td>27.379582</td>\n      <td>7.693209</td>\n    </tr>\n    <tr>\n      <td>23</td>\n      <td>Minnesota</td>\n      <td>27</td>\n      <td>1718739.0</td>\n      <td>1485345.0</td>\n      <td>0.535102</td>\n      <td>5490726</td>\n      <td>2731831</td>\n      <td>2758895</td>\n      <td>5.191382</td>\n      <td>80.765019</td>\n      <td>5.849248</td>\n      <td>0.940233</td>\n      <td>4.642012</td>\n      <td>0.010800</td>\n      <td>34711.758129</td>\n      <td>71154</td>\n      <td>10.491334</td>\n      <td>13.612018</td>\n      <td>4.308341</td>\n    </tr>\n    <tr>\n      <td>19</td>\n      <td>Maine</td>\n      <td>23</td>\n      <td>18269.0</td>\n      <td>15974.0</td>\n      <td>0.546731</td>\n      <td>1650411</td>\n      <td>809823</td>\n      <td>840588</td>\n      <td>1.468726</td>\n      <td>93.791069</td>\n      <td>1.029760</td>\n      <td>0.823275</td>\n      <td>1.068197</td>\n      <td>0.015386</td>\n      <td>29053.027007</td>\n      <td>47886</td>\n      <td>13.368833</td>\n      <td>16.664375</td>\n      <td>5.656235</td>\n    </tr>\n    <tr>\n      <td>46</td>\n      <td>Virginia</td>\n      <td>51</td>\n      <td>6471953.0</td>\n      <td>3819343.0</td>\n      <td>0.566670</td>\n      <td>19933878</td>\n      <td>9789500</td>\n      <td>10144378</td>\n      <td>11.264747</td>\n      <td>57.583718</td>\n      <td>16.930114</td>\n      <td>0.155871</td>\n      <td>10.637884</td>\n      <td>0.026406</td>\n      <td>41782.891429</td>\n      <td>103005</td>\n      <td>10.627245</td>\n      <td>15.030648</td>\n      <td>5.412562</td>\n    </tr>\n    <tr>\n      <td>5</td>\n      <td>Colorado</td>\n      <td>8</td>\n      <td>1803873.0</td>\n      <td>1364160.0</td>\n      <td>0.568276</td>\n      <td>5436519</td>\n      <td>2731315</td>\n      <td>2705204</td>\n      <td>21.287204</td>\n      <td>68.649807</td>\n      <td>3.873329</td>\n      <td>0.525543</td>\n      <td>2.967554</td>\n      <td>0.151255</td>\n      <td>34845.269500</td>\n      <td>64980</td>\n      <td>11.543312</td>\n      <td>14.712617</td>\n      <td>5.353002</td>\n    </tr>\n    <tr>\n      <td>45</td>\n      <td>Vermont</td>\n      <td>50</td>\n      <td>22708.0</td>\n      <td>11808.0</td>\n      <td>0.581314</td>\n      <td>541918</td>\n      <td>266622</td>\n      <td>275296</td>\n      <td>1.845637</td>\n      <td>92.940345</td>\n      <td>1.261801</td>\n      <td>0.259236</td>\n      <td>1.687713</td>\n      <td>0.023568</td>\n      <td>32605.792299</td>\n      <td>60602</td>\n      <td>11.051130</td>\n      <td>14.110427</td>\n      <td>4.405048</td>\n    </tr>\n    <tr>\n      <td>37</td>\n      <td>Oregon</td>\n      <td>41</td>\n      <td>1333467.0</td>\n      <td>952435.0</td>\n      <td>0.582056</td>\n      <td>4025127</td>\n      <td>1993822</td>\n      <td>2031305</td>\n      <td>12.651706</td>\n      <td>76.499756</td>\n      <td>1.804868</td>\n      <td>0.864734</td>\n      <td>4.091233</td>\n      <td>0.362036</td>\n      <td>30410.058105</td>\n      <td>58392</td>\n      <td>14.909070</td>\n      <td>19.122160</td>\n      <td>6.905811</td>\n    </tr>\n    <tr>\n      <td>13</td>\n      <td>Illinois</td>\n      <td>17</td>\n      <td>3398423.0</td>\n      <td>2420846.0</td>\n      <td>0.591617</td>\n      <td>12850365</td>\n      <td>6310429</td>\n      <td>6539936</td>\n      <td>16.842842</td>\n      <td>61.889648</td>\n      <td>14.054172</td>\n      <td>0.118039</td>\n      <td>5.179556</td>\n      <td>0.005085</td>\n      <td>32928.595123</td>\n      <td>59426</td>\n      <td>13.535183</td>\n      <td>19.066286</td>\n      <td>7.364239</td>\n    </tr>\n    <tr>\n      <td>30</td>\n      <td>New Jersey</td>\n      <td>34</td>\n      <td>2410404.0</td>\n      <td>1752127.0</td>\n      <td>0.594750</td>\n      <td>8960161</td>\n      <td>4372321</td>\n      <td>4587840</td>\n      <td>19.690660</td>\n      <td>56.067648</td>\n      <td>12.680542</td>\n      <td>0.089135</td>\n      <td>9.346134</td>\n      <td>0.007586</td>\n      <td>39069.193500</td>\n      <td>77027</td>\n      <td>10.685867</td>\n      <td>15.137020</td>\n      <td>6.980717</td>\n    </tr>\n    <tr>\n      <td>47</td>\n      <td>Washington</td>\n      <td>53</td>\n      <td>2356584.0</td>\n      <td>1572345.0</td>\n      <td>0.595873</td>\n      <td>7169967</td>\n      <td>3580888</td>\n      <td>3589079</td>\n      <td>12.312243</td>\n      <td>69.757975</td>\n      <td>3.504902</td>\n      <td>1.114846</td>\n      <td>8.000001</td>\n      <td>0.634294</td>\n      <td>34869.177067</td>\n      <td>67832</td>\n      <td>12.250295</td>\n      <td>15.525026</td>\n      <td>6.101114</td>\n    </tr>\n    <tr>\n      <td>32</td>\n      <td>New York</td>\n      <td>36</td>\n      <td>3777598.0</td>\n      <td>2876104.0</td>\n      <td>0.596557</td>\n      <td>19798228</td>\n      <td>9604111</td>\n      <td>10194117</td>\n      <td>18.819923</td>\n      <td>55.947459</td>\n      <td>14.367389</td>\n      <td>0.208437</td>\n      <td>8.266207</td>\n      <td>0.005213</td>\n      <td>35752.385607</td>\n      <td>62008</td>\n      <td>15.088008</td>\n      <td>20.961403</td>\n      <td>6.804255</td>\n    </tr>\n    <tr>\n      <td>7</td>\n      <td>Delaware</td>\n      <td>10</td>\n      <td>296268.0</td>\n      <td>200603.0</td>\n      <td>0.601495</td>\n      <td>943732</td>\n      <td>456876</td>\n      <td>486856</td>\n      <td>8.994927</td>\n      <td>63.016373</td>\n      <td>21.359167</td>\n      <td>0.319068</td>\n      <td>3.816916</td>\n      <td>0.000000</td>\n      <td>32625.371345</td>\n      <td>68336</td>\n      <td>12.124656</td>\n      <td>17.477845</td>\n      <td>6.445333</td>\n    </tr>\n    <tr>\n      <td>21</td>\n      <td>Massachusetts</td>\n      <td>25</td>\n      <td>108980.0</td>\n      <td>60810.0</td>\n      <td>0.621635</td>\n      <td>3562538</td>\n      <td>1727508</td>\n      <td>1835030</td>\n      <td>11.508252</td>\n      <td>76.126087</td>\n      <td>5.386074</td>\n      <td>0.144503</td>\n      <td>4.416087</td>\n      <td>0.008301</td>\n      <td>38649.645271</td>\n      <td>73533</td>\n      <td>10.300373</td>\n      <td>14.100352</td>\n      <td>6.148171</td>\n    </tr>\n    <tr>\n      <td>4</td>\n      <td>California</td>\n      <td>6</td>\n      <td>10760110.0</td>\n      <td>5750654.0</td>\n      <td>0.647835</td>\n      <td>38982847</td>\n      <td>19366579</td>\n      <td>19616268</td>\n      <td>38.751217</td>\n      <td>37.909617</td>\n      <td>5.547530</td>\n      <td>0.356283</td>\n      <td>13.929404</td>\n      <td>0.346743</td>\n      <td>33127.865984</td>\n      <td>61015</td>\n      <td>15.118114</td>\n      <td>20.242040</td>\n      <td>7.768742</td>\n    </tr>\n    <tr>\n      <td>11</td>\n      <td>Hawaii</td>\n      <td>15</td>\n      <td>366070.0</td>\n      <td>196800.0</td>\n      <td>0.649244</td>\n      <td>1421572</td>\n      <td>713940</td>\n      <td>707632</td>\n      <td>10.222118</td>\n      <td>22.209209</td>\n      <td>1.707785</td>\n      <td>0.123812</td>\n      <td>37.016158</td>\n      <td>9.212940</td>\n      <td>32510.203321</td>\n      <td>80078</td>\n      <td>10.350153</td>\n      <td>12.920177</td>\n      <td>4.858811</td>\n    </tr>\n    <tr>\n      <td>20</td>\n      <td>Maryland</td>\n      <td>24</td>\n      <td>1894321.0</td>\n      <td>955735.0</td>\n      <td>0.678412</td>\n      <td>5996079</td>\n      <td>2906277</td>\n      <td>3089802</td>\n      <td>9.564325</td>\n      <td>51.849489</td>\n      <td>29.263786</td>\n      <td>0.179895</td>\n      <td>6.191875</td>\n      <td>0.019309</td>\n      <td>39069.993362</td>\n      <td>78607</td>\n      <td>9.741435</td>\n      <td>13.214803</td>\n      <td>6.172815</td>\n    </tr>\n    <tr>\n      <td>6</td>\n      <td>Connecticut</td>\n      <td>9</td>\n      <td>106736.0</td>\n      <td>33713.0</td>\n      <td>0.759002</td>\n      <td>3430368</td>\n      <td>1673819</td>\n      <td>1756549</td>\n      <td>15.798777</td>\n      <td>67.239052</td>\n      <td>9.992411</td>\n      <td>0.123753</td>\n      <td>4.361071</td>\n      <td>0.000000</td>\n      <td>41254.139681</td>\n      <td>69936</td>\n      <td>10.213096</td>\n      <td>13.757220</td>\n      <td>7.359870</td>\n    </tr>\n    <tr>\n      <td>39</td>\n      <td>Rhode Island</td>\n      <td>44</td>\n      <td>60617.0</td>\n      <td>17442.0</td>\n      <td>0.796604</td>\n      <td>765936</td>\n      <td>372089</td>\n      <td>393847</td>\n      <td>18.652112</td>\n      <td>66.737728</td>\n      <td>7.038840</td>\n      <td>0.363533</td>\n      <td>3.737454</td>\n      <td>0.093599</td>\n      <td>31462.196178</td>\n      <td>52530</td>\n      <td>15.242643</td>\n      <td>21.865680</td>\n      <td>7.143377</td>\n    </tr>\n    <tr>\n      <td>8</td>\n      <td>District of Columbia</td>\n      <td>11</td>\n      <td>307265.0</td>\n      <td>18172.0</td>\n      <td>0.944161</td>\n      <td>672391</td>\n      <td>319046</td>\n      <td>353345</td>\n      <td>10.700000</td>\n      <td>36.000000</td>\n      <td>46.900000</td>\n      <td>0.200000</td>\n      <td>3.700000</td>\n      <td>0.000000</td>\n      <td>50832.000000</td>\n      <td>77649</td>\n      <td>17.400000</td>\n      <td>25.500000</td>\n      <td>8.000000</td>\n    </tr>\n  </tbody>\n</table>\n</div>"
     },
     "metadata": {},
     "execution_count": 17
    }
   ],
   "source": [
    "stateData= stateData.sort_values(by=['normalized_election_outcome'])\n",
    "stateData.to_csv (r'data/output/Merged_State_V1.csv', index = False, header=True)\n",
    "stateData"
   ]
  },
  {
   "cell_type": "code",
   "execution_count": 18,
   "metadata": {},
   "outputs": [
    {
     "output_type": "display_data",
     "data": {
      "text/plain": "<Figure size 432x288 with 1 Axes>",
      "image/svg+xml": "<?xml version=\"1.0\" encoding=\"utf-8\" standalone=\"no\"?>\n<!DOCTYPE svg PUBLIC \"-//W3C//DTD SVG 1.1//EN\"\n  \"http://www.w3.org/Graphics/SVG/1.1/DTD/svg11.dtd\">\n<!-- Created with matplotlib (https://matplotlib.org/) -->\n<svg height=\"248.518125pt\" version=\"1.1\" viewBox=\"0 0 372.103125 248.518125\" width=\"372.103125pt\" xmlns=\"http://www.w3.org/2000/svg\" xmlns:xlink=\"http://www.w3.org/1999/xlink\">\n <defs>\n  <style type=\"text/css\">\n*{stroke-linecap:butt;stroke-linejoin:round;}\n  </style>\n </defs>\n <g id=\"figure_1\">\n  <g id=\"patch_1\">\n   <path d=\"M 0 248.518125 \nL 372.103125 248.518125 \nL 372.103125 0 \nL 0 0 \nz\n\" style=\"fill:none;\"/>\n  </g>\n  <g id=\"axes_1\">\n   <g id=\"patch_2\">\n    <path d=\"M 30.103125 224.64 \nL 364.903125 224.64 \nL 364.903125 7.2 \nL 30.103125 7.2 \nz\n\" style=\"fill:#ffffff;\"/>\n   </g>\n   <g id=\"PathCollection_1\">\n    <defs>\n     <path d=\"M 0 3 \nC 0.795609 3 1.55874 2.683901 2.12132 2.12132 \nC 2.683901 1.55874 3 0.795609 3 0 \nC 3 -0.795609 2.683901 -1.55874 2.12132 -2.12132 \nC 1.55874 -2.683901 0.795609 -3 0 -3 \nC -0.795609 -3 -1.55874 -2.683901 -2.12132 -2.12132 \nC -2.683901 -1.55874 -3 -0.795609 -3 0 \nC -3 0.795609 -2.683901 1.55874 -2.12132 2.12132 \nC -1.55874 2.683901 -0.795609 3 0 3 \nz\n\" id=\"me9e9a5e6cd\" style=\"stroke:#1f77b4;\"/>\n    </defs>\n    <g clip-path=\"url(#p14f825f94f)\">\n     <use style=\"fill:#1f77b4;stroke:#1f77b4;\" x=\"138.932858\" xlink:href=\"#me9e9a5e6cd\" y=\"210.87175\"/>\n     <use style=\"fill:#1f77b4;stroke:#1f77b4;\" x=\"69.753739\" xlink:href=\"#me9e9a5e6cd\" y=\"202.012429\"/>\n     <use style=\"fill:#1f77b4;stroke:#1f77b4;\" x=\"77.244179\" xlink:href=\"#me9e9a5e6cd\" y=\"193.437523\"/>\n     <use style=\"fill:#1f77b4;stroke:#1f77b4;\" x=\"87.871438\" xlink:href=\"#me9e9a5e6cd\" y=\"193.127577\"/>\n     <use style=\"fill:#1f77b4;stroke:#1f77b4;\" x=\"171.61696\" xlink:href=\"#me9e9a5e6cd\" y=\"192.820271\"/>\n     <use style=\"fill:#1f77b4;stroke:#1f77b4;\" x=\"66.017288\" xlink:href=\"#me9e9a5e6cd\" y=\"186.219323\"/>\n     <use style=\"fill:#1f77b4;stroke:#1f77b4;\" x=\"81.725819\" xlink:href=\"#me9e9a5e6cd\" y=\"184.517216\"/>\n     <use style=\"fill:#1f77b4;stroke:#1f77b4;\" x=\"116.128798\" xlink:href=\"#me9e9a5e6cd\" y=\"183.318126\"/>\n     <use style=\"fill:#1f77b4;stroke:#1f77b4;\" x=\"80.198878\" xlink:href=\"#me9e9a5e6cd\" y=\"182.474711\"/>\n     <use style=\"fill:#1f77b4;stroke:#1f77b4;\" x=\"96.639898\" xlink:href=\"#me9e9a5e6cd\" y=\"178.095124\"/>\n     <use style=\"fill:#1f77b4;stroke:#1f77b4;\" x=\"92.664051\" xlink:href=\"#me9e9a5e6cd\" y=\"175.880263\"/>\n     <use style=\"fill:#1f77b4;stroke:#1f77b4;\" x=\"124.456565\" xlink:href=\"#me9e9a5e6cd\" y=\"173.276768\"/>\n     <use style=\"fill:#1f77b4;stroke:#1f77b4;\" x=\"85.378404\" xlink:href=\"#me9e9a5e6cd\" y=\"172.215692\"/>\n     <use style=\"fill:#1f77b4;stroke:#1f77b4;\" x=\"45.321403\" xlink:href=\"#me9e9a5e6cd\" y=\"170.730376\"/>\n     <use style=\"fill:#1f77b4;stroke:#1f77b4;\" x=\"111.993476\" xlink:href=\"#me9e9a5e6cd\" y=\"170.082558\"/>\n     <use style=\"fill:#1f77b4;stroke:#1f77b4;\" x=\"107.43992\" xlink:href=\"#me9e9a5e6cd\" y=\"168.871107\"/>\n     <use style=\"fill:#1f77b4;stroke:#1f77b4;\" x=\"121.591369\" xlink:href=\"#me9e9a5e6cd\" y=\"168.539988\"/>\n     <use style=\"fill:#1f77b4;stroke:#1f77b4;\" x=\"96.939863\" xlink:href=\"#me9e9a5e6cd\" y=\"168.163324\"/>\n     <use style=\"fill:#1f77b4;stroke:#1f77b4;\" x=\"89.856905\" xlink:href=\"#me9e9a5e6cd\" y=\"162.168892\"/>\n     <use style=\"fill:#1f77b4;stroke:#1f77b4;\" x=\"180.299593\" xlink:href=\"#me9e9a5e6cd\" y=\"161.777142\"/>\n     <use style=\"fill:#1f77b4;stroke:#1f77b4;\" x=\"126.566466\" xlink:href=\"#me9e9a5e6cd\" y=\"158.342833\"/>\n     <use style=\"fill:#1f77b4;stroke:#1f77b4;\" x=\"115.269902\" xlink:href=\"#me9e9a5e6cd\" y=\"157.51699\"/>\n     <use style=\"fill:#1f77b4;stroke:#1f77b4;\" x=\"114.989627\" xlink:href=\"#me9e9a5e6cd\" y=\"151.533719\"/>\n     <use style=\"fill:#1f77b4;stroke:#1f77b4;\" x=\"186.729459\" xlink:href=\"#me9e9a5e6cd\" y=\"151.162535\"/>\n     <use style=\"fill:#1f77b4;stroke:#1f77b4;\" x=\"112.720277\" xlink:href=\"#me9e9a5e6cd\" y=\"148.893207\"/>\n     <use style=\"fill:#1f77b4;stroke:#1f77b4;\" x=\"105.731846\" xlink:href=\"#me9e9a5e6cd\" y=\"148.834147\"/>\n     <use style=\"fill:#1f77b4;stroke:#1f77b4;\" x=\"104.016406\" xlink:href=\"#me9e9a5e6cd\" y=\"145.589292\"/>\n     <use style=\"fill:#1f77b4;stroke:#1f77b4;\" x=\"104.567287\" xlink:href=\"#me9e9a5e6cd\" y=\"145.03877\"/>\n     <use style=\"fill:#1f77b4;stroke:#1f77b4;\" x=\"141.755319\" xlink:href=\"#me9e9a5e6cd\" y=\"144.725573\"/>\n     <use style=\"fill:#1f77b4;stroke:#1f77b4;\" x=\"131.878477\" xlink:href=\"#me9e9a5e6cd\" y=\"144.078955\"/>\n     <use style=\"fill:#1f77b4;stroke:#1f77b4;\" x=\"109.32391\" xlink:href=\"#me9e9a5e6cd\" y=\"141.32218\"/>\n     <use style=\"fill:#1f77b4;stroke:#1f77b4;\" x=\"114.480199\" xlink:href=\"#me9e9a5e6cd\" y=\"141.234267\"/>\n     <use style=\"fill:#1f77b4;stroke:#1f77b4;\" x=\"80.103934\" xlink:href=\"#me9e9a5e6cd\" y=\"136.558085\"/>\n     <use style=\"fill:#1f77b4;stroke:#1f77b4;\" x=\"176.51104\" xlink:href=\"#me9e9a5e6cd\" y=\"136.14163\"/>\n     <use style=\"fill:#1f77b4;stroke:#1f77b4;\" x=\"115.721381\" xlink:href=\"#me9e9a5e6cd\" y=\"132.867437\"/>\n     <use style=\"fill:#1f77b4;stroke:#1f77b4;\" x=\"252.473615\" xlink:href=\"#me9e9a5e6cd\" y=\"127.253405\"/>\n     <use style=\"fill:#1f77b4;stroke:#1f77b4;\" x=\"177.945304\" xlink:href=\"#me9e9a5e6cd\" y=\"126.801181\"/>\n     <use style=\"fill:#1f77b4;stroke:#1f77b4;\" x=\"153.887427\" xlink:href=\"#me9e9a5e6cd\" y=\"123.130481\"/>\n     <use style=\"fill:#1f77b4;stroke:#1f77b4;\" x=\"130.299465\" xlink:href=\"#me9e9a5e6cd\" y=\"122.921407\"/>\n     <use style=\"fill:#1f77b4;stroke:#1f77b4;\" x=\"157.355178\" xlink:href=\"#me9e9a5e6cd\" y=\"120.229429\"/>\n     <use style=\"fill:#1f77b4;stroke:#1f77b4;\" x=\"223.32136\" xlink:href=\"#me9e9a5e6cd\" y=\"119.347295\"/>\n     <use style=\"fill:#1f77b4;stroke:#1f77b4;\" x=\"178.202134\" xlink:href=\"#me9e9a5e6cd\" y=\"119.03126\"/>\n     <use style=\"fill:#1f77b4;stroke:#1f77b4;\" x=\"187.690117\" xlink:href=\"#me9e9a5e6cd\" y=\"118.838657\"/>\n     <use style=\"fill:#1f77b4;stroke:#1f77b4;\" x=\"154.097757\" xlink:href=\"#me9e9a5e6cd\" y=\"117.448316\"/>\n     <use style=\"fill:#1f77b4;stroke:#1f77b4;\" x=\"218.814308\" xlink:href=\"#me9e9a5e6cd\" y=\"111.777657\"/>\n     <use style=\"fill:#1f77b4;stroke:#1f77b4;\" x=\"159.495872\" xlink:href=\"#me9e9a5e6cd\" y=\"104.401049\"/>\n     <use style=\"fill:#1f77b4;stroke:#1f77b4;\" x=\"152.86055\" xlink:href=\"#me9e9a5e6cd\" y=\"104.004304\"/>\n     <use style=\"fill:#1f77b4;stroke:#1f77b4;\" x=\"223.329952\" xlink:href=\"#me9e9a5e6cd\" y=\"95.791754\"/>\n     <use style=\"fill:#1f77b4;stroke:#1f77b4;\" x=\"246.79343\" xlink:href=\"#me9e9a5e6cd\" y=\"73.10104\"/>\n     <use style=\"fill:#1f77b4;stroke:#1f77b4;\" x=\"141.602196\" xlink:href=\"#me9e9a5e6cd\" y=\"62.513979\"/>\n     <use style=\"fill:#1f77b4;stroke:#1f77b4;\" x=\"349.684847\" xlink:href=\"#me9e9a5e6cd\" y=\"20.96825\"/>\n    </g>\n   </g>\n   <g id=\"matplotlib.axis_1\">\n    <g id=\"xtick_1\">\n     <g id=\"line2d_1\">\n      <defs>\n       <path d=\"M 0 0 \nL 0 3.5 \n\" id=\"m8d5932af9d\" style=\"stroke:#000000;stroke-width:0.8;\"/>\n      </defs>\n      <g>\n       <use style=\"stroke:#000000;stroke-width:0.8;\" x=\"72.181208\" xlink:href=\"#m8d5932af9d\" y=\"224.64\"/>\n      </g>\n     </g>\n     <g id=\"text_1\">\n      <!-- 25000 -->\n      <defs>\n       <path d=\"M 19.1875 8.296875 \nL 53.609375 8.296875 \nL 53.609375 0 \nL 7.328125 0 \nL 7.328125 8.296875 \nQ 12.9375 14.109375 22.625 23.890625 \nQ 32.328125 33.6875 34.8125 36.53125 \nQ 39.546875 41.84375 41.421875 45.53125 \nQ 43.3125 49.21875 43.3125 52.78125 \nQ 43.3125 58.59375 39.234375 62.25 \nQ 35.15625 65.921875 28.609375 65.921875 \nQ 23.96875 65.921875 18.8125 64.3125 \nQ 13.671875 62.703125 7.8125 59.421875 \nL 7.8125 69.390625 \nQ 13.765625 71.78125 18.9375 73 \nQ 24.125 74.21875 28.421875 74.21875 \nQ 39.75 74.21875 46.484375 68.546875 \nQ 53.21875 62.890625 53.21875 53.421875 \nQ 53.21875 48.921875 51.53125 44.890625 \nQ 49.859375 40.875 45.40625 35.40625 \nQ 44.1875 33.984375 37.640625 27.21875 \nQ 31.109375 20.453125 19.1875 8.296875 \nz\n\" id=\"DejaVuSans-50\"/>\n       <path d=\"M 10.796875 72.90625 \nL 49.515625 72.90625 \nL 49.515625 64.59375 \nL 19.828125 64.59375 \nL 19.828125 46.734375 \nQ 21.96875 47.46875 24.109375 47.828125 \nQ 26.265625 48.1875 28.421875 48.1875 \nQ 40.625 48.1875 47.75 41.5 \nQ 54.890625 34.8125 54.890625 23.390625 \nQ 54.890625 11.625 47.5625 5.09375 \nQ 40.234375 -1.421875 26.90625 -1.421875 \nQ 22.3125 -1.421875 17.546875 -0.640625 \nQ 12.796875 0.140625 7.71875 1.703125 \nL 7.71875 11.625 \nQ 12.109375 9.234375 16.796875 8.0625 \nQ 21.484375 6.890625 26.703125 6.890625 \nQ 35.15625 6.890625 40.078125 11.328125 \nQ 45.015625 15.765625 45.015625 23.390625 \nQ 45.015625 31 40.078125 35.4375 \nQ 35.15625 39.890625 26.703125 39.890625 \nQ 22.75 39.890625 18.8125 39.015625 \nQ 14.890625 38.140625 10.796875 36.28125 \nz\n\" id=\"DejaVuSans-53\"/>\n       <path d=\"M 31.78125 66.40625 \nQ 24.171875 66.40625 20.328125 58.90625 \nQ 16.5 51.421875 16.5 36.375 \nQ 16.5 21.390625 20.328125 13.890625 \nQ 24.171875 6.390625 31.78125 6.390625 \nQ 39.453125 6.390625 43.28125 13.890625 \nQ 47.125 21.390625 47.125 36.375 \nQ 47.125 51.421875 43.28125 58.90625 \nQ 39.453125 66.40625 31.78125 66.40625 \nz\nM 31.78125 74.21875 \nQ 44.046875 74.21875 50.515625 64.515625 \nQ 56.984375 54.828125 56.984375 36.375 \nQ 56.984375 17.96875 50.515625 8.265625 \nQ 44.046875 -1.421875 31.78125 -1.421875 \nQ 19.53125 -1.421875 13.0625 8.265625 \nQ 6.59375 17.96875 6.59375 36.375 \nQ 6.59375 54.828125 13.0625 64.515625 \nQ 19.53125 74.21875 31.78125 74.21875 \nz\n\" id=\"DejaVuSans-48\"/>\n      </defs>\n      <g transform=\"translate(56.274958 239.238438)scale(0.1 -0.1)\">\n       <use xlink:href=\"#DejaVuSans-50\"/>\n       <use x=\"63.623047\" xlink:href=\"#DejaVuSans-53\"/>\n       <use x=\"127.246094\" xlink:href=\"#DejaVuSans-48\"/>\n       <use x=\"190.869141\" xlink:href=\"#DejaVuSans-48\"/>\n       <use x=\"254.492188\" xlink:href=\"#DejaVuSans-48\"/>\n      </g>\n     </g>\n    </g>\n    <g id=\"xtick_2\">\n     <g id=\"line2d_2\">\n      <g>\n       <use style=\"stroke:#000000;stroke-width:0.8;\" x=\"125.894362\" xlink:href=\"#m8d5932af9d\" y=\"224.64\"/>\n      </g>\n     </g>\n     <g id=\"text_2\">\n      <!-- 30000 -->\n      <defs>\n       <path d=\"M 40.578125 39.3125 \nQ 47.65625 37.796875 51.625 33 \nQ 55.609375 28.21875 55.609375 21.1875 \nQ 55.609375 10.40625 48.1875 4.484375 \nQ 40.765625 -1.421875 27.09375 -1.421875 \nQ 22.515625 -1.421875 17.65625 -0.515625 \nQ 12.796875 0.390625 7.625 2.203125 \nL 7.625 11.71875 \nQ 11.71875 9.328125 16.59375 8.109375 \nQ 21.484375 6.890625 26.8125 6.890625 \nQ 36.078125 6.890625 40.9375 10.546875 \nQ 45.796875 14.203125 45.796875 21.1875 \nQ 45.796875 27.640625 41.28125 31.265625 \nQ 36.765625 34.90625 28.71875 34.90625 \nL 20.21875 34.90625 \nL 20.21875 43.015625 \nL 29.109375 43.015625 \nQ 36.375 43.015625 40.234375 45.921875 \nQ 44.09375 48.828125 44.09375 54.296875 \nQ 44.09375 59.90625 40.109375 62.90625 \nQ 36.140625 65.921875 28.71875 65.921875 \nQ 24.65625 65.921875 20.015625 65.03125 \nQ 15.375 64.15625 9.8125 62.3125 \nL 9.8125 71.09375 \nQ 15.4375 72.65625 20.34375 73.4375 \nQ 25.25 74.21875 29.59375 74.21875 \nQ 40.828125 74.21875 47.359375 69.109375 \nQ 53.90625 64.015625 53.90625 55.328125 \nQ 53.90625 49.265625 50.4375 45.09375 \nQ 46.96875 40.921875 40.578125 39.3125 \nz\n\" id=\"DejaVuSans-51\"/>\n      </defs>\n      <g transform=\"translate(109.988112 239.238438)scale(0.1 -0.1)\">\n       <use xlink:href=\"#DejaVuSans-51\"/>\n       <use x=\"63.623047\" xlink:href=\"#DejaVuSans-48\"/>\n       <use x=\"127.246094\" xlink:href=\"#DejaVuSans-48\"/>\n       <use x=\"190.869141\" xlink:href=\"#DejaVuSans-48\"/>\n       <use x=\"254.492188\" xlink:href=\"#DejaVuSans-48\"/>\n      </g>\n     </g>\n    </g>\n    <g id=\"xtick_3\">\n     <g id=\"line2d_3\">\n      <g>\n       <use style=\"stroke:#000000;stroke-width:0.8;\" x=\"179.607516\" xlink:href=\"#m8d5932af9d\" y=\"224.64\"/>\n      </g>\n     </g>\n     <g id=\"text_3\">\n      <!-- 35000 -->\n      <g transform=\"translate(163.701266 239.238438)scale(0.1 -0.1)\">\n       <use xlink:href=\"#DejaVuSans-51\"/>\n       <use x=\"63.623047\" xlink:href=\"#DejaVuSans-53\"/>\n       <use x=\"127.246094\" xlink:href=\"#DejaVuSans-48\"/>\n       <use x=\"190.869141\" xlink:href=\"#DejaVuSans-48\"/>\n       <use x=\"254.492188\" xlink:href=\"#DejaVuSans-48\"/>\n      </g>\n     </g>\n    </g>\n    <g id=\"xtick_4\">\n     <g id=\"line2d_4\">\n      <g>\n       <use style=\"stroke:#000000;stroke-width:0.8;\" x=\"233.32067\" xlink:href=\"#m8d5932af9d\" y=\"224.64\"/>\n      </g>\n     </g>\n     <g id=\"text_4\">\n      <!-- 40000 -->\n      <defs>\n       <path d=\"M 37.796875 64.3125 \nL 12.890625 25.390625 \nL 37.796875 25.390625 \nz\nM 35.203125 72.90625 \nL 47.609375 72.90625 \nL 47.609375 25.390625 \nL 58.015625 25.390625 \nL 58.015625 17.1875 \nL 47.609375 17.1875 \nL 47.609375 0 \nL 37.796875 0 \nL 37.796875 17.1875 \nL 4.890625 17.1875 \nL 4.890625 26.703125 \nz\n\" id=\"DejaVuSans-52\"/>\n      </defs>\n      <g transform=\"translate(217.41442 239.238438)scale(0.1 -0.1)\">\n       <use xlink:href=\"#DejaVuSans-52\"/>\n       <use x=\"63.623047\" xlink:href=\"#DejaVuSans-48\"/>\n       <use x=\"127.246094\" xlink:href=\"#DejaVuSans-48\"/>\n       <use x=\"190.869141\" xlink:href=\"#DejaVuSans-48\"/>\n       <use x=\"254.492188\" xlink:href=\"#DejaVuSans-48\"/>\n      </g>\n     </g>\n    </g>\n    <g id=\"xtick_5\">\n     <g id=\"line2d_5\">\n      <g>\n       <use style=\"stroke:#000000;stroke-width:0.8;\" x=\"287.033824\" xlink:href=\"#m8d5932af9d\" y=\"224.64\"/>\n      </g>\n     </g>\n     <g id=\"text_5\">\n      <!-- 45000 -->\n      <g transform=\"translate(271.127574 239.238438)scale(0.1 -0.1)\">\n       <use xlink:href=\"#DejaVuSans-52\"/>\n       <use x=\"63.623047\" xlink:href=\"#DejaVuSans-53\"/>\n       <use x=\"127.246094\" xlink:href=\"#DejaVuSans-48\"/>\n       <use x=\"190.869141\" xlink:href=\"#DejaVuSans-48\"/>\n       <use x=\"254.492188\" xlink:href=\"#DejaVuSans-48\"/>\n      </g>\n     </g>\n    </g>\n    <g id=\"xtick_6\">\n     <g id=\"line2d_6\">\n      <g>\n       <use style=\"stroke:#000000;stroke-width:0.8;\" x=\"340.746978\" xlink:href=\"#m8d5932af9d\" y=\"224.64\"/>\n      </g>\n     </g>\n     <g id=\"text_6\">\n      <!-- 50000 -->\n      <g transform=\"translate(324.840728 239.238438)scale(0.1 -0.1)\">\n       <use xlink:href=\"#DejaVuSans-53\"/>\n       <use x=\"63.623047\" xlink:href=\"#DejaVuSans-48\"/>\n       <use x=\"127.246094\" xlink:href=\"#DejaVuSans-48\"/>\n       <use x=\"190.869141\" xlink:href=\"#DejaVuSans-48\"/>\n       <use x=\"254.492188\" xlink:href=\"#DejaVuSans-48\"/>\n      </g>\n     </g>\n    </g>\n   </g>\n   <g id=\"matplotlib.axis_2\">\n    <g id=\"ytick_1\">\n     <g id=\"line2d_7\">\n      <defs>\n       <path d=\"M 0 0 \nL -3.5 0 \n\" id=\"mb59e06f6f2\" style=\"stroke:#000000;stroke-width:0.8;\"/>\n      </defs>\n      <g>\n       <use style=\"stroke:#000000;stroke-width:0.8;\" x=\"30.103125\" xlink:href=\"#mb59e06f6f2\" y=\"202.336226\"/>\n      </g>\n     </g>\n     <g id=\"text_7\">\n      <!-- 0.3 -->\n      <defs>\n       <path d=\"M 10.6875 12.40625 \nL 21 12.40625 \nL 21 0 \nL 10.6875 0 \nz\n\" id=\"DejaVuSans-46\"/>\n      </defs>\n      <g transform=\"translate(7.2 206.135445)scale(0.1 -0.1)\">\n       <use xlink:href=\"#DejaVuSans-48\"/>\n       <use x=\"63.623047\" xlink:href=\"#DejaVuSans-46\"/>\n       <use x=\"95.410156\" xlink:href=\"#DejaVuSans-51\"/>\n      </g>\n     </g>\n    </g>\n    <g id=\"ytick_2\">\n     <g id=\"line2d_8\">\n      <g>\n       <use style=\"stroke:#000000;stroke-width:0.8;\" x=\"30.103125\" xlink:href=\"#mb59e06f6f2\" y=\"174.180546\"/>\n      </g>\n     </g>\n     <g id=\"text_8\">\n      <!-- 0.4 -->\n      <g transform=\"translate(7.2 177.979765)scale(0.1 -0.1)\">\n       <use xlink:href=\"#DejaVuSans-48\"/>\n       <use x=\"63.623047\" xlink:href=\"#DejaVuSans-46\"/>\n       <use x=\"95.410156\" xlink:href=\"#DejaVuSans-52\"/>\n      </g>\n     </g>\n    </g>\n    <g id=\"ytick_3\">\n     <g id=\"line2d_9\">\n      <g>\n       <use style=\"stroke:#000000;stroke-width:0.8;\" x=\"30.103125\" xlink:href=\"#mb59e06f6f2\" y=\"146.024866\"/>\n      </g>\n     </g>\n     <g id=\"text_9\">\n      <!-- 0.5 -->\n      <g transform=\"translate(7.2 149.824085)scale(0.1 -0.1)\">\n       <use xlink:href=\"#DejaVuSans-48\"/>\n       <use x=\"63.623047\" xlink:href=\"#DejaVuSans-46\"/>\n       <use x=\"95.410156\" xlink:href=\"#DejaVuSans-53\"/>\n      </g>\n     </g>\n    </g>\n    <g id=\"ytick_4\">\n     <g id=\"line2d_10\">\n      <g>\n       <use style=\"stroke:#000000;stroke-width:0.8;\" x=\"30.103125\" xlink:href=\"#mb59e06f6f2\" y=\"117.869186\"/>\n      </g>\n     </g>\n     <g id=\"text_10\">\n      <!-- 0.6 -->\n      <defs>\n       <path d=\"M 33.015625 40.375 \nQ 26.375 40.375 22.484375 35.828125 \nQ 18.609375 31.296875 18.609375 23.390625 \nQ 18.609375 15.53125 22.484375 10.953125 \nQ 26.375 6.390625 33.015625 6.390625 \nQ 39.65625 6.390625 43.53125 10.953125 \nQ 47.40625 15.53125 47.40625 23.390625 \nQ 47.40625 31.296875 43.53125 35.828125 \nQ 39.65625 40.375 33.015625 40.375 \nz\nM 52.59375 71.296875 \nL 52.59375 62.3125 \nQ 48.875 64.0625 45.09375 64.984375 \nQ 41.3125 65.921875 37.59375 65.921875 \nQ 27.828125 65.921875 22.671875 59.328125 \nQ 17.53125 52.734375 16.796875 39.40625 \nQ 19.671875 43.65625 24.015625 45.921875 \nQ 28.375 48.1875 33.59375 48.1875 \nQ 44.578125 48.1875 50.953125 41.515625 \nQ 57.328125 34.859375 57.328125 23.390625 \nQ 57.328125 12.15625 50.6875 5.359375 \nQ 44.046875 -1.421875 33.015625 -1.421875 \nQ 20.359375 -1.421875 13.671875 8.265625 \nQ 6.984375 17.96875 6.984375 36.375 \nQ 6.984375 53.65625 15.1875 63.9375 \nQ 23.390625 74.21875 37.203125 74.21875 \nQ 40.921875 74.21875 44.703125 73.484375 \nQ 48.484375 72.75 52.59375 71.296875 \nz\n\" id=\"DejaVuSans-54\"/>\n      </defs>\n      <g transform=\"translate(7.2 121.668405)scale(0.1 -0.1)\">\n       <use xlink:href=\"#DejaVuSans-48\"/>\n       <use x=\"63.623047\" xlink:href=\"#DejaVuSans-46\"/>\n       <use x=\"95.410156\" xlink:href=\"#DejaVuSans-54\"/>\n      </g>\n     </g>\n    </g>\n    <g id=\"ytick_5\">\n     <g id=\"line2d_11\">\n      <g>\n       <use style=\"stroke:#000000;stroke-width:0.8;\" x=\"30.103125\" xlink:href=\"#mb59e06f6f2\" y=\"89.713506\"/>\n      </g>\n     </g>\n     <g id=\"text_11\">\n      <!-- 0.7 -->\n      <defs>\n       <path d=\"M 8.203125 72.90625 \nL 55.078125 72.90625 \nL 55.078125 68.703125 \nL 28.609375 0 \nL 18.3125 0 \nL 43.21875 64.59375 \nL 8.203125 64.59375 \nz\n\" id=\"DejaVuSans-55\"/>\n      </defs>\n      <g transform=\"translate(7.2 93.512725)scale(0.1 -0.1)\">\n       <use xlink:href=\"#DejaVuSans-48\"/>\n       <use x=\"63.623047\" xlink:href=\"#DejaVuSans-46\"/>\n       <use x=\"95.410156\" xlink:href=\"#DejaVuSans-55\"/>\n      </g>\n     </g>\n    </g>\n    <g id=\"ytick_6\">\n     <g id=\"line2d_12\">\n      <g>\n       <use style=\"stroke:#000000;stroke-width:0.8;\" x=\"30.103125\" xlink:href=\"#mb59e06f6f2\" y=\"61.557826\"/>\n      </g>\n     </g>\n     <g id=\"text_12\">\n      <!-- 0.8 -->\n      <defs>\n       <path d=\"M 31.78125 34.625 \nQ 24.75 34.625 20.71875 30.859375 \nQ 16.703125 27.09375 16.703125 20.515625 \nQ 16.703125 13.921875 20.71875 10.15625 \nQ 24.75 6.390625 31.78125 6.390625 \nQ 38.8125 6.390625 42.859375 10.171875 \nQ 46.921875 13.96875 46.921875 20.515625 \nQ 46.921875 27.09375 42.890625 30.859375 \nQ 38.875 34.625 31.78125 34.625 \nz\nM 21.921875 38.8125 \nQ 15.578125 40.375 12.03125 44.71875 \nQ 8.5 49.078125 8.5 55.328125 \nQ 8.5 64.0625 14.71875 69.140625 \nQ 20.953125 74.21875 31.78125 74.21875 \nQ 42.671875 74.21875 48.875 69.140625 \nQ 55.078125 64.0625 55.078125 55.328125 \nQ 55.078125 49.078125 51.53125 44.71875 \nQ 48 40.375 41.703125 38.8125 \nQ 48.828125 37.15625 52.796875 32.3125 \nQ 56.78125 27.484375 56.78125 20.515625 \nQ 56.78125 9.90625 50.3125 4.234375 \nQ 43.84375 -1.421875 31.78125 -1.421875 \nQ 19.734375 -1.421875 13.25 4.234375 \nQ 6.78125 9.90625 6.78125 20.515625 \nQ 6.78125 27.484375 10.78125 32.3125 \nQ 14.796875 37.15625 21.921875 38.8125 \nz\nM 18.3125 54.390625 \nQ 18.3125 48.734375 21.84375 45.5625 \nQ 25.390625 42.390625 31.78125 42.390625 \nQ 38.140625 42.390625 41.71875 45.5625 \nQ 45.3125 48.734375 45.3125 54.390625 \nQ 45.3125 60.0625 41.71875 63.234375 \nQ 38.140625 66.40625 31.78125 66.40625 \nQ 25.390625 66.40625 21.84375 63.234375 \nQ 18.3125 60.0625 18.3125 54.390625 \nz\n\" id=\"DejaVuSans-56\"/>\n      </defs>\n      <g transform=\"translate(7.2 65.357045)scale(0.1 -0.1)\">\n       <use xlink:href=\"#DejaVuSans-48\"/>\n       <use x=\"63.623047\" xlink:href=\"#DejaVuSans-46\"/>\n       <use x=\"95.410156\" xlink:href=\"#DejaVuSans-56\"/>\n      </g>\n     </g>\n    </g>\n    <g id=\"ytick_7\">\n     <g id=\"line2d_13\">\n      <g>\n       <use style=\"stroke:#000000;stroke-width:0.8;\" x=\"30.103125\" xlink:href=\"#mb59e06f6f2\" y=\"33.402146\"/>\n      </g>\n     </g>\n     <g id=\"text_13\">\n      <!-- 0.9 -->\n      <defs>\n       <path d=\"M 10.984375 1.515625 \nL 10.984375 10.5 \nQ 14.703125 8.734375 18.5 7.8125 \nQ 22.3125 6.890625 25.984375 6.890625 \nQ 35.75 6.890625 40.890625 13.453125 \nQ 46.046875 20.015625 46.78125 33.40625 \nQ 43.953125 29.203125 39.59375 26.953125 \nQ 35.25 24.703125 29.984375 24.703125 \nQ 19.046875 24.703125 12.671875 31.3125 \nQ 6.296875 37.9375 6.296875 49.421875 \nQ 6.296875 60.640625 12.9375 67.421875 \nQ 19.578125 74.21875 30.609375 74.21875 \nQ 43.265625 74.21875 49.921875 64.515625 \nQ 56.59375 54.828125 56.59375 36.375 \nQ 56.59375 19.140625 48.40625 8.859375 \nQ 40.234375 -1.421875 26.421875 -1.421875 \nQ 22.703125 -1.421875 18.890625 -0.6875 \nQ 15.09375 0.046875 10.984375 1.515625 \nz\nM 30.609375 32.421875 \nQ 37.25 32.421875 41.125 36.953125 \nQ 45.015625 41.5 45.015625 49.421875 \nQ 45.015625 57.28125 41.125 61.84375 \nQ 37.25 66.40625 30.609375 66.40625 \nQ 23.96875 66.40625 20.09375 61.84375 \nQ 16.21875 57.28125 16.21875 49.421875 \nQ 16.21875 41.5 20.09375 36.953125 \nQ 23.96875 32.421875 30.609375 32.421875 \nz\n\" id=\"DejaVuSans-57\"/>\n      </defs>\n      <g transform=\"translate(7.2 37.201365)scale(0.1 -0.1)\">\n       <use xlink:href=\"#DejaVuSans-48\"/>\n       <use x=\"63.623047\" xlink:href=\"#DejaVuSans-46\"/>\n       <use x=\"95.410156\" xlink:href=\"#DejaVuSans-57\"/>\n      </g>\n     </g>\n    </g>\n   </g>\n   <g id=\"patch_3\">\n    <path d=\"M 30.103125 224.64 \nL 30.103125 7.2 \n\" style=\"fill:none;stroke:#000000;stroke-linecap:square;stroke-linejoin:miter;stroke-width:0.8;\"/>\n   </g>\n   <g id=\"patch_4\">\n    <path d=\"M 364.903125 224.64 \nL 364.903125 7.2 \n\" style=\"fill:none;stroke:#000000;stroke-linecap:square;stroke-linejoin:miter;stroke-width:0.8;\"/>\n   </g>\n   <g id=\"patch_5\">\n    <path d=\"M 30.103125 224.64 \nL 364.903125 224.64 \n\" style=\"fill:none;stroke:#000000;stroke-linecap:square;stroke-linejoin:miter;stroke-width:0.8;\"/>\n   </g>\n   <g id=\"patch_6\">\n    <path d=\"M 30.103125 7.2 \nL 364.903125 7.2 \n\" style=\"fill:none;stroke:#000000;stroke-linecap:square;stroke-linejoin:miter;stroke-width:0.8;\"/>\n   </g>\n  </g>\n </g>\n <defs>\n  <clipPath id=\"p14f825f94f\">\n   <rect height=\"217.44\" width=\"334.8\" x=\"30.103125\" y=\"7.2\"/>\n  </clipPath>\n </defs>\n</svg>\n",
      "image/png": "[encoded data removed]"
     },
     "metadata": {
      "needs_background": "light"
     }
    }
   ],
   "source": [
    "plt.scatter(stateData['IncomePerCap'], stateData['normalized_election_outcome']);"
   ]
  },
  {
   "cell_type": "code",
   "execution_count": null,
   "metadata": {},
   "outputs": [],
   "source": []
  }
 ],
 "metadata": {
  "kernelspec": {
   "display_name": "Python 3",
   "language": "python",
   "name": "python3"
  },
  "language_info": {
   "codemirror_mode": {
    "name": "ipython",
    "version": 3
   },
   "file_extension": ".py",
   "mimetype": "text/x-python",
   "name": "python",
   "nbconvert_exporter": "python",
   "pygments_lexer": "ipython3",
   "version": "3.7.4-final"
  }
 },
 "nbformat": 4,
 "nbformat_minor": 2
}