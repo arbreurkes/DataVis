{
 "cells": [
  {
   "cell_type": "markdown",
   "metadata": {},
   "source": [
    "### Imports"
   ]
  },
  {
   "cell_type": "code",
   "execution_count": 1,
   "metadata": {},
   "outputs": [],
   "source": [
    "import numpy as np\n",
    "import pandas as pd\n",
    "import matplotlib\n",
    "import matplotlib.pyplot as plt\n",
    "import array as array\n",
    "from scipy.stats import pearsonr\n",
    "%matplotlib inline\n",
    "import seaborn as sns\n",
    "pd.set_option('display.width', 500)\n",
    "pd.set_option('display.max_columns', 100)\n",
    "pd.set_option('display.max_rows', 100)\n",
    "#pd.set_option(\"display.max_rows\", None, \"display.max_columns\", None)"
   ]
  },
  {
   "source": [
    "### Function"
   ],
   "cell_type": "code",
   "metadata": {},
   "execution_count": 2,
   "outputs": []
  },
  {
   "cell_type": "code",
   "execution_count": 3,
   "metadata": {},
   "outputs": [],
   "source": [
    "def wAvrgAggr(df, cName):\n",
    "    totalW = 0.0\n",
    "    totVal = 0.0\n",
    "    for value, weight in zip(df[cName], df['TotalPop']):\n",
    "        totVal += float(value) * float(weight)\n",
    "        totalW += weight\n",
    "    return totVal/totalW\n",
    "\n",
    "def sumAggregation(df, cName):\n",
    "    return df[cName].sum()\n",
    "\n",
    "def weighted_median(df, val):\n",
    "    df_sorted = df.sort_values(val)\n",
    "    cumsum = df_sorted['TotalPop'].cumsum()\n",
    "    cutoff = df_sorted['TotalPop'].sum() / 2.\n",
    "    return df_sorted[cumsum >= cutoff][val].iloc[0]"
   ]
  },
  {
   "cell_type": "markdown",
   "metadata": {},
   "source": [
    "### Data Loading"
   ]
  },
  {
   "cell_type": "code",
   "execution_count": 4,
   "metadata": {},
   "outputs": [],
   "source": [
    "demographics=pd.read_csv(\"data/income/demographic.csv\")\n",
    "c_results=pd.read_csv(\"data/output/countyData.csv\")\n",
    "s_results=pd.read_csv(\"data/output/stateData.csv\")"
   ]
  },
  {
   "cell_type": "markdown",
   "metadata": {},
   "source": [
    "### Data Cleaning - Demographics"
   ]
  },
  {
   "cell_type": "code",
   "execution_count": 5,
   "metadata": {
    "scrolled": true
   },
   "outputs": [],
   "source": [
    "#Porto Rico doesnt vote\n",
    "demographics.drop(demographics[demographics.State=='Puerto Rico'].index, inplace=True)\n",
    "\n",
    "#Drop Columns\n",
    "demographics.drop(['CountyId','IncomeErr','IncomePerCapErr'], axis=1, inplace=True)\n",
    "\n",
    "#General Data adjustment for mapping\n",
    "demographics['County'] = demographics['County'].str.replace(' County', '')\n",
    "demographics['County'] = demographics['County'].str.replace(' Parish', '')\n",
    "demographics['County'] = demographics['County'].str.replace(' parish', '')\n",
    "\n",
    "#Virginia\n",
    "m = demographics['State'] == 'Virginia'\n",
    "demographics.loc[m, 'County'] = demographics.loc[m, 'County'].replace({' city': ''}, regex=True)\n",
    "demographics.loc[m, 'County'] = demographics.loc[m, 'County'].replace({' City': ''}, regex=True)\n",
    "\n",
    "#Alaska\n",
    "m = demographics['State'] == 'Alaska'\n",
    "demographics.loc[m, 'County'] = 'Alaska'\n",
    "\n",
    "#Sorting\n",
    "demographics.sort_values(by=['State', 'County'], inplace=True, ascending=True)"
   ]
  },
  {
   "cell_type": "markdown",
   "metadata": {},
   "source": [
    "### Data Cleaning - c_result"
   ]
  },
  {
   "cell_type": "code",
   "execution_count": 6,
   "metadata": {},
   "outputs": [],
   "source": [
    "#Drop NA for Now until fix\n",
    "c_results=c_results.dropna()\n",
    "\n",
    "#TEMPORARY FIX /// Drop all Alaska Except one\n",
    "c_results.drop(c_results[(c_results.state=='Alaska') & (c_results.county_id > 13)].index, inplace=True)\n"
   ]
  },
  {
   "cell_type": "markdown",
   "metadata": {},
   "source": [
    "### Data Cleaning - s_result"
   ]
  },
  {
   "cell_type": "code",
   "execution_count": 7,
   "metadata": {},
   "outputs": [],
   "source": [
    "#Drop NA for Now until fix\n",
    "s_results=s_results.dropna()"
   ]
  },
  {
   "cell_type": "markdown",
   "metadata": {},
   "source": [
    "### Data County Merge"
   ]
  },
  {
   "cell_type": "code",
   "execution_count": 8,
   "metadata": {},
   "outputs": [],
   "source": [
    "County_merged=pd.merge(right=demographics, left=c_results, right_on=['State','County'], left_on=['state','county'])\n",
    "County_merged.drop(['State', 'County'], axis=1, inplace=True)\n",
    "County_merged['state_id'] = County_merged['state_id'].astype(\"Int32\")\n",
    "County_merged['county_id'] = County_merged['county_id'].astype(\"Int32\")\n",
    "County_merged.shape\n",
    "\n",
    "#Alaska Fix\n",
    "g = County_merged.groupby('state')\n",
    "for state, group in g:\n",
    "    if state == 'Alaska':\n",
    "        # Note that TotalPop should be aggregated last, as it is used in the wAvrg\n",
    "        sumAgg = ['Men','Women','TotalPop']\n",
    "        wAvgAgg = ['IncomePerCap', 'Hispanic', 'White','Black','Native','Asian','Pacific', 'Poverty', 'ChildPoverty','Unemployment']\n",
    "        wMedian = ['Income']\n",
    "        for col in wMedian: \n",
    "            newVal = weighted_median(group, col)\n",
    "            County_merged.loc[(County_merged['state'] == state), col] = newVal\n",
    "        for col in wAvgAgg:  \n",
    "            newVal = wAvrgAggr(group, col)\n",
    "            County_merged.loc[(County_merged['state'] == state), col] = newVal\n",
    "        for col in sumAgg:\n",
    "            newVal = sumAggregation(group, col)\n",
    "            County_merged.loc[(County_merged['state'] == state), col] = newVal\n",
    "            \n",
    "\n",
    "County_merged.to_csv (r'data/output/Merged_County_V1.csv', index = False, header=True)"
   ]
  },
  {
   "cell_type": "markdown",
   "metadata": {},
   "source": [
    "### Data State Merge"
   ]
  },
  {
   "cell_type": "code",
   "execution_count": 9,
   "metadata": {},
   "outputs": [],
   "source": [
    "stateData = County_merged.copy()\n",
    "g = stateData.groupby('state')\n",
    "for state, group in g:\n",
    "    # Note that TotalPop should be aggregated last, as it is used in the wAvrg\n",
    "    sumAgg = ['Men','Women','TotalPop','DEM_votes','REP_votes']\n",
    "    wAvgAgg = ['normalized_election_outcome', 'IncomePerCap', 'Hispanic', 'White','Black','Native','Asian','Pacific', 'Poverty', 'ChildPoverty','Unemployment']\n",
    "    wMedian = ['Income']\n",
    "    for col in wMedian: \n",
    "        newVal = weighted_median(group, col)\n",
    "        stateData.loc[(stateData['state'] == state), col] = newVal\n",
    "    for col in wAvgAgg:  \n",
    "        newVal = wAvrgAggr(group, col)\n",
    "        stateData.loc[(stateData['state'] == state), col] = newVal\n",
    "    for col in sumAgg:\n",
    "        newVal = sumAggregation(group, col)\n",
    "        stateData.loc[(stateData['state'] == state), col] = newVal\n",
    "    \n",
    "    \n",
    "    \n",
    "    # And aggregate the\n",
    "stateData = stateData[['state','state_id','DEM_votes','REP_votes','normalized_election_outcome', 'TotalPop','Men','Women','Hispanic','White','Black','Native','Asian','Pacific','IncomePerCap', 'Income','Poverty','ChildPoverty','Unemployment']]\n",
    "stateData = stateData.drop_duplicates()\n",
    "stateData = stateData.sort_values(by=['state_id'])\n",
    "stateData['state_id'] = stateData['state_id'].astype(\"Int32\")\n",
    "stateData = stateData.reset_index(drop=True)\n"
   ]
  },
  {
   "cell_type": "code",
   "execution_count": 10,
   "metadata": {},
   "outputs": [],
   "source": [
    "stateData= stateData.sort_values(by=['normalized_election_outcome'])\n",
    "stateData.to_csv (r'data/output/Merged_State_V1.csv', index = False, header=True)"
   ]
  },
  {
   "cell_type": "code",
   "execution_count": 11,
   "metadata": {},
   "outputs": [
    {
     "output_type": "display_data",
     "data": {
      "text/plain": "<Figure size 432x288 with 1 Axes>",
      "image/svg+xml": "<?xml version=\"1.0\" encoding=\"utf-8\" standalone=\"no\"?>\n<!DOCTYPE svg PUBLIC \"-//W3C//DTD SVG 1.1//EN\"\n  \"http://www.w3.org/Graphics/SVG/1.1/DTD/svg11.dtd\">\n<!-- Created with matplotlib (https://matplotlib.org/) -->\n<svg height=\"248.518125pt\" version=\"1.1\" viewBox=\"0 0 372.103125 248.518125\" width=\"372.103125pt\" xmlns=\"http://www.w3.org/2000/svg\" xmlns:xlink=\"http://www.w3.org/1999/xlink\">\n <defs>\n  <style type=\"text/css\">\n*{stroke-linecap:butt;stroke-linejoin:round;}\n  </style>\n </defs>\n <g id=\"figure_1\">\n  <g id=\"patch_1\">\n   <path d=\"M 0 248.518125 \nL 372.103125 248.518125 \nL 372.103125 0 \nL 0 0 \nz\n\" style=\"fill:none;\"/>\n  </g>\n  <g id=\"axes_1\">\n   <g id=\"patch_2\">\n    <path d=\"M 30.103125 224.64 \nL 364.903125 224.64 \nL 364.903125 7.2 \nL 30.103125 7.2 \nz\n\" style=\"fill:#ffffff;\"/>\n   </g>\n   <g id=\"PathCollection_1\">\n    <defs>\n     <path d=\"M 0 3 \nC 0.795609 3 1.55874 2.683901 2.12132 2.12132 \nC 2.683901 1.55874 3 0.795609 3 0 \nC 3 -0.795609 2.683901 -1.55874 2.12132 -2.12132 \nC 1.55874 -2.683901 0.795609 -3 0 -3 \nC -0.795609 -3 -1.55874 -2.683901 -2.12132 -2.12132 \nC -2.683901 -1.55874 -3 -0.795609 -3 0 \nC -3 0.795609 -2.683901 1.55874 -2.12132 2.12132 \nC -1.55874 2.683901 -0.795609 3 0 3 \nz\n\" id=\"m27f9660ee5\" style=\"stroke:#1f77b4;\"/>\n    </defs>\n    <g clip-path=\"url(#p9e621e4cea)\">\n     <use style=\"fill:#1f77b4;stroke:#1f77b4;\" x=\"138.932858\" xlink:href=\"#m27f9660ee5\" y=\"210.87175\"/>\n     <use style=\"fill:#1f77b4;stroke:#1f77b4;\" x=\"69.753739\" xlink:href=\"#m27f9660ee5\" y=\"202.012429\"/>\n     <use style=\"fill:#1f77b4;stroke:#1f77b4;\" x=\"77.244179\" xlink:href=\"#m27f9660ee5\" y=\"193.437523\"/>\n     <use style=\"fill:#1f77b4;stroke:#1f77b4;\" x=\"87.871438\" xlink:href=\"#m27f9660ee5\" y=\"193.127577\"/>\n     <use style=\"fill:#1f77b4;stroke:#1f77b4;\" x=\"171.61696\" xlink:href=\"#m27f9660ee5\" y=\"192.820271\"/>\n     <use style=\"fill:#1f77b4;stroke:#1f77b4;\" x=\"66.017288\" xlink:href=\"#m27f9660ee5\" y=\"186.219323\"/>\n     <use style=\"fill:#1f77b4;stroke:#1f77b4;\" x=\"81.725819\" xlink:href=\"#m27f9660ee5\" y=\"184.517216\"/>\n     <use style=\"fill:#1f77b4;stroke:#1f77b4;\" x=\"116.128798\" xlink:href=\"#m27f9660ee5\" y=\"183.318126\"/>\n     <use style=\"fill:#1f77b4;stroke:#1f77b4;\" x=\"80.198878\" xlink:href=\"#m27f9660ee5\" y=\"182.474711\"/>\n     <use style=\"fill:#1f77b4;stroke:#1f77b4;\" x=\"96.639898\" xlink:href=\"#m27f9660ee5\" y=\"178.095124\"/>\n     <use style=\"fill:#1f77b4;stroke:#1f77b4;\" x=\"92.664051\" xlink:href=\"#m27f9660ee5\" y=\"175.880263\"/>\n     <use style=\"fill:#1f77b4;stroke:#1f77b4;\" x=\"124.456565\" xlink:href=\"#m27f9660ee5\" y=\"173.276768\"/>\n     <use style=\"fill:#1f77b4;stroke:#1f77b4;\" x=\"85.378404\" xlink:href=\"#m27f9660ee5\" y=\"172.215692\"/>\n     <use style=\"fill:#1f77b4;stroke:#1f77b4;\" x=\"45.321403\" xlink:href=\"#m27f9660ee5\" y=\"170.730376\"/>\n     <use style=\"fill:#1f77b4;stroke:#1f77b4;\" x=\"111.993476\" xlink:href=\"#m27f9660ee5\" y=\"170.082558\"/>\n     <use style=\"fill:#1f77b4;stroke:#1f77b4;\" x=\"107.43992\" xlink:href=\"#m27f9660ee5\" y=\"168.871107\"/>\n     <use style=\"fill:#1f77b4;stroke:#1f77b4;\" x=\"121.591369\" xlink:href=\"#m27f9660ee5\" y=\"168.539988\"/>\n     <use style=\"fill:#1f77b4;stroke:#1f77b4;\" x=\"96.939863\" xlink:href=\"#m27f9660ee5\" y=\"168.163324\"/>\n     <use style=\"fill:#1f77b4;stroke:#1f77b4;\" x=\"89.856905\" xlink:href=\"#m27f9660ee5\" y=\"162.168892\"/>\n     <use style=\"fill:#1f77b4;stroke:#1f77b4;\" x=\"180.299593\" xlink:href=\"#m27f9660ee5\" y=\"161.777142\"/>\n     <use style=\"fill:#1f77b4;stroke:#1f77b4;\" x=\"126.566466\" xlink:href=\"#m27f9660ee5\" y=\"158.342833\"/>\n     <use style=\"fill:#1f77b4;stroke:#1f77b4;\" x=\"115.269902\" xlink:href=\"#m27f9660ee5\" y=\"157.51699\"/>\n     <use style=\"fill:#1f77b4;stroke:#1f77b4;\" x=\"114.989627\" xlink:href=\"#m27f9660ee5\" y=\"151.533719\"/>\n     <use style=\"fill:#1f77b4;stroke:#1f77b4;\" x=\"186.729459\" xlink:href=\"#m27f9660ee5\" y=\"151.162535\"/>\n     <use style=\"fill:#1f77b4;stroke:#1f77b4;\" x=\"112.720277\" xlink:href=\"#m27f9660ee5\" y=\"148.893207\"/>\n     <use style=\"fill:#1f77b4;stroke:#1f77b4;\" x=\"105.731846\" xlink:href=\"#m27f9660ee5\" y=\"148.834147\"/>\n     <use style=\"fill:#1f77b4;stroke:#1f77b4;\" x=\"104.016406\" xlink:href=\"#m27f9660ee5\" y=\"145.589292\"/>\n     <use style=\"fill:#1f77b4;stroke:#1f77b4;\" x=\"104.567287\" xlink:href=\"#m27f9660ee5\" y=\"145.03877\"/>\n     <use style=\"fill:#1f77b4;stroke:#1f77b4;\" x=\"141.755319\" xlink:href=\"#m27f9660ee5\" y=\"144.725573\"/>\n     <use style=\"fill:#1f77b4;stroke:#1f77b4;\" x=\"131.878477\" xlink:href=\"#m27f9660ee5\" y=\"144.078955\"/>\n     <use style=\"fill:#1f77b4;stroke:#1f77b4;\" x=\"109.32391\" xlink:href=\"#m27f9660ee5\" y=\"141.32218\"/>\n     <use style=\"fill:#1f77b4;stroke:#1f77b4;\" x=\"114.480199\" xlink:href=\"#m27f9660ee5\" y=\"141.234267\"/>\n     <use style=\"fill:#1f77b4;stroke:#1f77b4;\" x=\"80.103934\" xlink:href=\"#m27f9660ee5\" y=\"136.558085\"/>\n     <use style=\"fill:#1f77b4;stroke:#1f77b4;\" x=\"176.51104\" xlink:href=\"#m27f9660ee5\" y=\"136.14163\"/>\n     <use style=\"fill:#1f77b4;stroke:#1f77b4;\" x=\"115.721381\" xlink:href=\"#m27f9660ee5\" y=\"132.867437\"/>\n     <use style=\"fill:#1f77b4;stroke:#1f77b4;\" x=\"252.473615\" xlink:href=\"#m27f9660ee5\" y=\"127.253405\"/>\n     <use style=\"fill:#1f77b4;stroke:#1f77b4;\" x=\"177.945304\" xlink:href=\"#m27f9660ee5\" y=\"126.801181\"/>\n     <use style=\"fill:#1f77b4;stroke:#1f77b4;\" x=\"153.887427\" xlink:href=\"#m27f9660ee5\" y=\"123.130481\"/>\n     <use style=\"fill:#1f77b4;stroke:#1f77b4;\" x=\"130.299465\" xlink:href=\"#m27f9660ee5\" y=\"122.921407\"/>\n     <use style=\"fill:#1f77b4;stroke:#1f77b4;\" x=\"157.355178\" xlink:href=\"#m27f9660ee5\" y=\"120.229429\"/>\n     <use style=\"fill:#1f77b4;stroke:#1f77b4;\" x=\"223.32136\" xlink:href=\"#m27f9660ee5\" y=\"119.347295\"/>\n     <use style=\"fill:#1f77b4;stroke:#1f77b4;\" x=\"178.202134\" xlink:href=\"#m27f9660ee5\" y=\"119.03126\"/>\n     <use style=\"fill:#1f77b4;stroke:#1f77b4;\" x=\"187.690117\" xlink:href=\"#m27f9660ee5\" y=\"118.838657\"/>\n     <use style=\"fill:#1f77b4;stroke:#1f77b4;\" x=\"154.097757\" xlink:href=\"#m27f9660ee5\" y=\"117.448316\"/>\n     <use style=\"fill:#1f77b4;stroke:#1f77b4;\" x=\"218.814308\" xlink:href=\"#m27f9660ee5\" y=\"111.777657\"/>\n     <use style=\"fill:#1f77b4;stroke:#1f77b4;\" x=\"159.495872\" xlink:href=\"#m27f9660ee5\" y=\"104.401049\"/>\n     <use style=\"fill:#1f77b4;stroke:#1f77b4;\" x=\"152.86055\" xlink:href=\"#m27f9660ee5\" y=\"104.004304\"/>\n     <use style=\"fill:#1f77b4;stroke:#1f77b4;\" x=\"223.329952\" xlink:href=\"#m27f9660ee5\" y=\"95.791754\"/>\n     <use style=\"fill:#1f77b4;stroke:#1f77b4;\" x=\"246.79343\" xlink:href=\"#m27f9660ee5\" y=\"73.10104\"/>\n     <use style=\"fill:#1f77b4;stroke:#1f77b4;\" x=\"141.602196\" xlink:href=\"#m27f9660ee5\" y=\"62.513979\"/>\n     <use style=\"fill:#1f77b4;stroke:#1f77b4;\" x=\"349.684847\" xlink:href=\"#m27f9660ee5\" y=\"20.96825\"/>\n    </g>\n   </g>\n   <g id=\"matplotlib.axis_1\">\n    <g id=\"xtick_1\">\n     <g id=\"line2d_1\">\n      <defs>\n       <path d=\"M 0 0 \nL 0 3.5 \n\" id=\"m55a0e8e1ce\" style=\"stroke:#000000;stroke-width:0.8;\"/>\n      </defs>\n      <g>\n       <use style=\"stroke:#000000;stroke-width:0.8;\" x=\"72.181208\" xlink:href=\"#m55a0e8e1ce\" y=\"224.64\"/>\n      </g>\n     </g>\n     <g id=\"text_1\">\n      <!-- 25000 -->\n      <defs>\n       <path d=\"M 19.1875 8.296875 \nL 53.609375 8.296875 \nL 53.609375 0 \nL 7.328125 0 \nL 7.328125 8.296875 \nQ 12.9375 14.109375 22.625 23.890625 \nQ 32.328125 33.6875 34.8125 36.53125 \nQ 39.546875 41.84375 41.421875 45.53125 \nQ 43.3125 49.21875 43.3125 52.78125 \nQ 43.3125 58.59375 39.234375 62.25 \nQ 35.15625 65.921875 28.609375 65.921875 \nQ 23.96875 65.921875 18.8125 64.3125 \nQ 13.671875 62.703125 7.8125 59.421875 \nL 7.8125 69.390625 \nQ 13.765625 71.78125 18.9375 73 \nQ 24.125 74.21875 28.421875 74.21875 \nQ 39.75 74.21875 46.484375 68.546875 \nQ 53.21875 62.890625 53.21875 53.421875 \nQ 53.21875 48.921875 51.53125 44.890625 \nQ 49.859375 40.875 45.40625 35.40625 \nQ 44.1875 33.984375 37.640625 27.21875 \nQ 31.109375 20.453125 19.1875 8.296875 \nz\n\" id=\"DejaVuSans-50\"/>\n       <path d=\"M 10.796875 72.90625 \nL 49.515625 72.90625 \nL 49.515625 64.59375 \nL 19.828125 64.59375 \nL 19.828125 46.734375 \nQ 21.96875 47.46875 24.109375 47.828125 \nQ 26.265625 48.1875 28.421875 48.1875 \nQ 40.625 48.1875 47.75 41.5 \nQ 54.890625 34.8125 54.890625 23.390625 \nQ 54.890625 11.625 47.5625 5.09375 \nQ 40.234375 -1.421875 26.90625 -1.421875 \nQ 22.3125 -1.421875 17.546875 -0.640625 \nQ 12.796875 0.140625 7.71875 1.703125 \nL 7.71875 11.625 \nQ 12.109375 9.234375 16.796875 8.0625 \nQ 21.484375 6.890625 26.703125 6.890625 \nQ 35.15625 6.890625 40.078125 11.328125 \nQ 45.015625 15.765625 45.015625 23.390625 \nQ 45.015625 31 40.078125 35.4375 \nQ 35.15625 39.890625 26.703125 39.890625 \nQ 22.75 39.890625 18.8125 39.015625 \nQ 14.890625 38.140625 10.796875 36.28125 \nz\n\" id=\"DejaVuSans-53\"/>\n       <path d=\"M 31.78125 66.40625 \nQ 24.171875 66.40625 20.328125 58.90625 \nQ 16.5 51.421875 16.5 36.375 \nQ 16.5 21.390625 20.328125 13.890625 \nQ 24.171875 6.390625 31.78125 6.390625 \nQ 39.453125 6.390625 43.28125 13.890625 \nQ 47.125 21.390625 47.125 36.375 \nQ 47.125 51.421875 43.28125 58.90625 \nQ 39.453125 66.40625 31.78125 66.40625 \nz\nM 31.78125 74.21875 \nQ 44.046875 74.21875 50.515625 64.515625 \nQ 56.984375 54.828125 56.984375 36.375 \nQ 56.984375 17.96875 50.515625 8.265625 \nQ 44.046875 -1.421875 31.78125 -1.421875 \nQ 19.53125 -1.421875 13.0625 8.265625 \nQ 6.59375 17.96875 6.59375 36.375 \nQ 6.59375 54.828125 13.0625 64.515625 \nQ 19.53125 74.21875 31.78125 74.21875 \nz\n\" id=\"DejaVuSans-48\"/>\n      </defs>\n      <g transform=\"translate(56.274958 239.238438)scale(0.1 -0.1)\">\n       <use xlink:href=\"#DejaVuSans-50\"/>\n       <use x=\"63.623047\" xlink:href=\"#DejaVuSans-53\"/>\n       <use x=\"127.246094\" xlink:href=\"#DejaVuSans-48\"/>\n       <use x=\"190.869141\" xlink:href=\"#DejaVuSans-48\"/>\n       <use x=\"254.492188\" xlink:href=\"#DejaVuSans-48\"/>\n      </g>\n     </g>\n    </g>\n    <g id=\"xtick_2\">\n     <g id=\"line2d_2\">\n      <g>\n       <use style=\"stroke:#000000;stroke-width:0.8;\" x=\"125.894362\" xlink:href=\"#m55a0e8e1ce\" y=\"224.64\"/>\n      </g>\n     </g>\n     <g id=\"text_2\">\n      <!-- 30000 -->\n      <defs>\n       <path d=\"M 40.578125 39.3125 \nQ 47.65625 37.796875 51.625 33 \nQ 55.609375 28.21875 55.609375 21.1875 \nQ 55.609375 10.40625 48.1875 4.484375 \nQ 40.765625 -1.421875 27.09375 -1.421875 \nQ 22.515625 -1.421875 17.65625 -0.515625 \nQ 12.796875 0.390625 7.625 2.203125 \nL 7.625 11.71875 \nQ 11.71875 9.328125 16.59375 8.109375 \nQ 21.484375 6.890625 26.8125 6.890625 \nQ 36.078125 6.890625 40.9375 10.546875 \nQ 45.796875 14.203125 45.796875 21.1875 \nQ 45.796875 27.640625 41.28125 31.265625 \nQ 36.765625 34.90625 28.71875 34.90625 \nL 20.21875 34.90625 \nL 20.21875 43.015625 \nL 29.109375 43.015625 \nQ 36.375 43.015625 40.234375 45.921875 \nQ 44.09375 48.828125 44.09375 54.296875 \nQ 44.09375 59.90625 40.109375 62.90625 \nQ 36.140625 65.921875 28.71875 65.921875 \nQ 24.65625 65.921875 20.015625 65.03125 \nQ 15.375 64.15625 9.8125 62.3125 \nL 9.8125 71.09375 \nQ 15.4375 72.65625 20.34375 73.4375 \nQ 25.25 74.21875 29.59375 74.21875 \nQ 40.828125 74.21875 47.359375 69.109375 \nQ 53.90625 64.015625 53.90625 55.328125 \nQ 53.90625 49.265625 50.4375 45.09375 \nQ 46.96875 40.921875 40.578125 39.3125 \nz\n\" id=\"DejaVuSans-51\"/>\n      </defs>\n      <g transform=\"translate(109.988112 239.238438)scale(0.1 -0.1)\">\n       <use xlink:href=\"#DejaVuSans-51\"/>\n       <use x=\"63.623047\" xlink:href=\"#DejaVuSans-48\"/>\n       <use x=\"127.246094\" xlink:href=\"#DejaVuSans-48\"/>\n       <use x=\"190.869141\" xlink:href=\"#DejaVuSans-48\"/>\n       <use x=\"254.492188\" xlink:href=\"#DejaVuSans-48\"/>\n      </g>\n     </g>\n    </g>\n    <g id=\"xtick_3\">\n     <g id=\"line2d_3\">\n      <g>\n       <use style=\"stroke:#000000;stroke-width:0.8;\" x=\"179.607516\" xlink:href=\"#m55a0e8e1ce\" y=\"224.64\"/>\n      </g>\n     </g>\n     <g id=\"text_3\">\n      <!-- 35000 -->\n      <g transform=\"translate(163.701266 239.238438)scale(0.1 -0.1)\">\n       <use xlink:href=\"#DejaVuSans-51\"/>\n       <use x=\"63.623047\" xlink:href=\"#DejaVuSans-53\"/>\n       <use x=\"127.246094\" xlink:href=\"#DejaVuSans-48\"/>\n       <use x=\"190.869141\" xlink:href=\"#DejaVuSans-48\"/>\n       <use x=\"254.492188\" xlink:href=\"#DejaVuSans-48\"/>\n      </g>\n     </g>\n    </g>\n    <g id=\"xtick_4\">\n     <g id=\"line2d_4\">\n      <g>\n       <use style=\"stroke:#000000;stroke-width:0.8;\" x=\"233.32067\" xlink:href=\"#m55a0e8e1ce\" y=\"224.64\"/>\n      </g>\n     </g>\n     <g id=\"text_4\">\n      <!-- 40000 -->\n      <defs>\n       <path d=\"M 37.796875 64.3125 \nL 12.890625 25.390625 \nL 37.796875 25.390625 \nz\nM 35.203125 72.90625 \nL 47.609375 72.90625 \nL 47.609375 25.390625 \nL 58.015625 25.390625 \nL 58.015625 17.1875 \nL 47.609375 17.1875 \nL 47.609375 0 \nL 37.796875 0 \nL 37.796875 17.1875 \nL 4.890625 17.1875 \nL 4.890625 26.703125 \nz\n\" id=\"DejaVuSans-52\"/>\n      </defs>\n      <g transform=\"translate(217.41442 239.238438)scale(0.1 -0.1)\">\n       <use xlink:href=\"#DejaVuSans-52\"/>\n       <use x=\"63.623047\" xlink:href=\"#DejaVuSans-48\"/>\n       <use x=\"127.246094\" xlink:href=\"#DejaVuSans-48\"/>\n       <use x=\"190.869141\" xlink:href=\"#DejaVuSans-48\"/>\n       <use x=\"254.492188\" xlink:href=\"#DejaVuSans-48\"/>\n      </g>\n     </g>\n    </g>\n    <g id=\"xtick_5\">\n     <g id=\"line2d_5\">\n      <g>\n       <use style=\"stroke:#000000;stroke-width:0.8;\" x=\"287.033824\" xlink:href=\"#m55a0e8e1ce\" y=\"224.64\"/>\n      </g>\n     </g>\n     <g id=\"text_5\">\n      <!-- 45000 -->\n      <g transform=\"translate(271.127574 239.238438)scale(0.1 -0.1)\">\n       <use xlink:href=\"#DejaVuSans-52\"/>\n       <use x=\"63.623047\" xlink:href=\"#DejaVuSans-53\"/>\n       <use x=\"127.246094\" xlink:href=\"#DejaVuSans-48\"/>\n       <use x=\"190.869141\" xlink:href=\"#DejaVuSans-48\"/>\n       <use x=\"254.492188\" xlink:href=\"#DejaVuSans-48\"/>\n      </g>\n     </g>\n    </g>\n    <g id=\"xtick_6\">\n     <g id=\"line2d_6\">\n      <g>\n       <use style=\"stroke:#000000;stroke-width:0.8;\" x=\"340.746978\" xlink:href=\"#m55a0e8e1ce\" y=\"224.64\"/>\n      </g>\n     </g>\n     <g id=\"text_6\">\n      <!-- 50000 -->\n      <g transform=\"translate(324.840728 239.238438)scale(0.1 -0.1)\">\n       <use xlink:href=\"#DejaVuSans-53\"/>\n       <use x=\"63.623047\" xlink:href=\"#DejaVuSans-48\"/>\n       <use x=\"127.246094\" xlink:href=\"#DejaVuSans-48\"/>\n       <use x=\"190.869141\" xlink:href=\"#DejaVuSans-48\"/>\n       <use x=\"254.492188\" xlink:href=\"#DejaVuSans-48\"/>\n      </g>\n     </g>\n    </g>\n   </g>\n   <g id=\"matplotlib.axis_2\">\n    <g id=\"ytick_1\">\n     <g id=\"line2d_7\">\n      <defs>\n       <path d=\"M 0 0 \nL -3.5 0 \n\" id=\"m82e55aad61\" style=\"stroke:#000000;stroke-width:0.8;\"/>\n      </defs>\n      <g>\n       <use style=\"stroke:#000000;stroke-width:0.8;\" x=\"30.103125\" xlink:href=\"#m82e55aad61\" y=\"202.336226\"/>\n      </g>\n     </g>\n     <g id=\"text_7\">\n      <!-- 0.3 -->\n      <defs>\n       <path d=\"M 10.6875 12.40625 \nL 21 12.40625 \nL 21 0 \nL 10.6875 0 \nz\n\" id=\"DejaVuSans-46\"/>\n      </defs>\n      <g transform=\"translate(7.2 206.135445)scale(0.1 -0.1)\">\n       <use xlink:href=\"#DejaVuSans-48\"/>\n       <use x=\"63.623047\" xlink:href=\"#DejaVuSans-46\"/>\n       <use x=\"95.410156\" xlink:href=\"#DejaVuSans-51\"/>\n      </g>\n     </g>\n    </g>\n    <g id=\"ytick_2\">\n     <g id=\"line2d_8\">\n      <g>\n       <use style=\"stroke:#000000;stroke-width:0.8;\" x=\"30.103125\" xlink:href=\"#m82e55aad61\" y=\"174.180546\"/>\n      </g>\n     </g>\n     <g id=\"text_8\">\n      <!-- 0.4 -->\n      <g transform=\"translate(7.2 177.979765)scale(0.1 -0.1)\">\n       <use xlink:href=\"#DejaVuSans-48\"/>\n       <use x=\"63.623047\" xlink:href=\"#DejaVuSans-46\"/>\n       <use x=\"95.410156\" xlink:href=\"#DejaVuSans-52\"/>\n      </g>\n     </g>\n    </g>\n    <g id=\"ytick_3\">\n     <g id=\"line2d_9\">\n      <g>\n       <use style=\"stroke:#000000;stroke-width:0.8;\" x=\"30.103125\" xlink:href=\"#m82e55aad61\" y=\"146.024866\"/>\n      </g>\n     </g>\n     <g id=\"text_9\">\n      <!-- 0.5 -->\n      <g transform=\"translate(7.2 149.824085)scale(0.1 -0.1)\">\n       <use xlink:href=\"#DejaVuSans-48\"/>\n       <use x=\"63.623047\" xlink:href=\"#DejaVuSans-46\"/>\n       <use x=\"95.410156\" xlink:href=\"#DejaVuSans-53\"/>\n      </g>\n     </g>\n    </g>\n    <g id=\"ytick_4\">\n     <g id=\"line2d_10\">\n      <g>\n       <use style=\"stroke:#000000;stroke-width:0.8;\" x=\"30.103125\" xlink:href=\"#m82e55aad61\" y=\"117.869186\"/>\n      </g>\n     </g>\n     <g id=\"text_10\">\n      <!-- 0.6 -->\n      <defs>\n       <path d=\"M 33.015625 40.375 \nQ 26.375 40.375 22.484375 35.828125 \nQ 18.609375 31.296875 18.609375 23.390625 \nQ 18.609375 15.53125 22.484375 10.953125 \nQ 26.375 6.390625 33.015625 6.390625 \nQ 39.65625 6.390625 43.53125 10.953125 \nQ 47.40625 15.53125 47.40625 23.390625 \nQ 47.40625 31.296875 43.53125 35.828125 \nQ 39.65625 40.375 33.015625 40.375 \nz\nM 52.59375 71.296875 \nL 52.59375 62.3125 \nQ 48.875 64.0625 45.09375 64.984375 \nQ 41.3125 65.921875 37.59375 65.921875 \nQ 27.828125 65.921875 22.671875 59.328125 \nQ 17.53125 52.734375 16.796875 39.40625 \nQ 19.671875 43.65625 24.015625 45.921875 \nQ 28.375 48.1875 33.59375 48.1875 \nQ 44.578125 48.1875 50.953125 41.515625 \nQ 57.328125 34.859375 57.328125 23.390625 \nQ 57.328125 12.15625 50.6875 5.359375 \nQ 44.046875 -1.421875 33.015625 -1.421875 \nQ 20.359375 -1.421875 13.671875 8.265625 \nQ 6.984375 17.96875 6.984375 36.375 \nQ 6.984375 53.65625 15.1875 63.9375 \nQ 23.390625 74.21875 37.203125 74.21875 \nQ 40.921875 74.21875 44.703125 73.484375 \nQ 48.484375 72.75 52.59375 71.296875 \nz\n\" id=\"DejaVuSans-54\"/>\n      </defs>\n      <g transform=\"translate(7.2 121.668405)scale(0.1 -0.1)\">\n       <use xlink:href=\"#DejaVuSans-48\"/>\n       <use x=\"63.623047\" xlink:href=\"#DejaVuSans-46\"/>\n       <use x=\"95.410156\" xlink:href=\"#DejaVuSans-54\"/>\n      </g>\n     </g>\n    </g>\n    <g id=\"ytick_5\">\n     <g id=\"line2d_11\">\n      <g>\n       <use style=\"stroke:#000000;stroke-width:0.8;\" x=\"30.103125\" xlink:href=\"#m82e55aad61\" y=\"89.713506\"/>\n      </g>\n     </g>\n     <g id=\"text_11\">\n      <!-- 0.7 -->\n      <defs>\n       <path d=\"M 8.203125 72.90625 \nL 55.078125 72.90625 \nL 55.078125 68.703125 \nL 28.609375 0 \nL 18.3125 0 \nL 43.21875 64.59375 \nL 8.203125 64.59375 \nz\n\" id=\"DejaVuSans-55\"/>\n      </defs>\n      <g transform=\"translate(7.2 93.512725)scale(0.1 -0.1)\">\n       <use xlink:href=\"#DejaVuSans-48\"/>\n       <use x=\"63.623047\" xlink:href=\"#DejaVuSans-46\"/>\n       <use x=\"95.410156\" xlink:href=\"#DejaVuSans-55\"/>\n      </g>\n     </g>\n    </g>\n    <g id=\"ytick_6\">\n     <g id=\"line2d_12\">\n      <g>\n       <use style=\"stroke:#000000;stroke-width:0.8;\" x=\"30.103125\" xlink:href=\"#m82e55aad61\" y=\"61.557826\"/>\n      </g>\n     </g>\n     <g id=\"text_12\">\n      <!-- 0.8 -->\n      <defs>\n       <path d=\"M 31.78125 34.625 \nQ 24.75 34.625 20.71875 30.859375 \nQ 16.703125 27.09375 16.703125 20.515625 \nQ 16.703125 13.921875 20.71875 10.15625 \nQ 24.75 6.390625 31.78125 6.390625 \nQ 38.8125 6.390625 42.859375 10.171875 \nQ 46.921875 13.96875 46.921875 20.515625 \nQ 46.921875 27.09375 42.890625 30.859375 \nQ 38.875 34.625 31.78125 34.625 \nz\nM 21.921875 38.8125 \nQ 15.578125 40.375 12.03125 44.71875 \nQ 8.5 49.078125 8.5 55.328125 \nQ 8.5 64.0625 14.71875 69.140625 \nQ 20.953125 74.21875 31.78125 74.21875 \nQ 42.671875 74.21875 48.875 69.140625 \nQ 55.078125 64.0625 55.078125 55.328125 \nQ 55.078125 49.078125 51.53125 44.71875 \nQ 48 40.375 41.703125 38.8125 \nQ 48.828125 37.15625 52.796875 32.3125 \nQ 56.78125 27.484375 56.78125 20.515625 \nQ 56.78125 9.90625 50.3125 4.234375 \nQ 43.84375 -1.421875 31.78125 -1.421875 \nQ 19.734375 -1.421875 13.25 4.234375 \nQ 6.78125 9.90625 6.78125 20.515625 \nQ 6.78125 27.484375 10.78125 32.3125 \nQ 14.796875 37.15625 21.921875 38.8125 \nz\nM 18.3125 54.390625 \nQ 18.3125 48.734375 21.84375 45.5625 \nQ 25.390625 42.390625 31.78125 42.390625 \nQ 38.140625 42.390625 41.71875 45.5625 \nQ 45.3125 48.734375 45.3125 54.390625 \nQ 45.3125 60.0625 41.71875 63.234375 \nQ 38.140625 66.40625 31.78125 66.40625 \nQ 25.390625 66.40625 21.84375 63.234375 \nQ 18.3125 60.0625 18.3125 54.390625 \nz\n\" id=\"DejaVuSans-56\"/>\n      </defs>\n      <g transform=\"translate(7.2 65.357045)scale(0.1 -0.1)\">\n       <use xlink:href=\"#DejaVuSans-48\"/>\n       <use x=\"63.623047\" xlink:href=\"#DejaVuSans-46\"/>\n       <use x=\"95.410156\" xlink:href=\"#DejaVuSans-56\"/>\n      </g>\n     </g>\n    </g>\n    <g id=\"ytick_7\">\n     <g id=\"line2d_13\">\n      <g>\n       <use style=\"stroke:#000000;stroke-width:0.8;\" x=\"30.103125\" xlink:href=\"#m82e55aad61\" y=\"33.402146\"/>\n      </g>\n     </g>\n     <g id=\"text_13\">\n      <!-- 0.9 -->\n      <defs>\n       <path d=\"M 10.984375 1.515625 \nL 10.984375 10.5 \nQ 14.703125 8.734375 18.5 7.8125 \nQ 22.3125 6.890625 25.984375 6.890625 \nQ 35.75 6.890625 40.890625 13.453125 \nQ 46.046875 20.015625 46.78125 33.40625 \nQ 43.953125 29.203125 39.59375 26.953125 \nQ 35.25 24.703125 29.984375 24.703125 \nQ 19.046875 24.703125 12.671875 31.3125 \nQ 6.296875 37.9375 6.296875 49.421875 \nQ 6.296875 60.640625 12.9375 67.421875 \nQ 19.578125 74.21875 30.609375 74.21875 \nQ 43.265625 74.21875 49.921875 64.515625 \nQ 56.59375 54.828125 56.59375 36.375 \nQ 56.59375 19.140625 48.40625 8.859375 \nQ 40.234375 -1.421875 26.421875 -1.421875 \nQ 22.703125 -1.421875 18.890625 -0.6875 \nQ 15.09375 0.046875 10.984375 1.515625 \nz\nM 30.609375 32.421875 \nQ 37.25 32.421875 41.125 36.953125 \nQ 45.015625 41.5 45.015625 49.421875 \nQ 45.015625 57.28125 41.125 61.84375 \nQ 37.25 66.40625 30.609375 66.40625 \nQ 23.96875 66.40625 20.09375 61.84375 \nQ 16.21875 57.28125 16.21875 49.421875 \nQ 16.21875 41.5 20.09375 36.953125 \nQ 23.96875 32.421875 30.609375 32.421875 \nz\n\" id=\"DejaVuSans-57\"/>\n      </defs>\n      <g transform=\"translate(7.2 37.201365)scale(0.1 -0.1)\">\n       <use xlink:href=\"#DejaVuSans-48\"/>\n       <use x=\"63.623047\" xlink:href=\"#DejaVuSans-46\"/>\n       <use x=\"95.410156\" xlink:href=\"#DejaVuSans-57\"/>\n      </g>\n     </g>\n    </g>\n   </g>\n   <g id=\"patch_3\">\n    <path d=\"M 30.103125 224.64 \nL 30.103125 7.2 \n\" style=\"fill:none;stroke:#000000;stroke-linecap:square;stroke-linejoin:miter;stroke-width:0.8;\"/>\n   </g>\n   <g id=\"patch_4\">\n    <path d=\"M 364.903125 224.64 \nL 364.903125 7.2 \n\" style=\"fill:none;stroke:#000000;stroke-linecap:square;stroke-linejoin:miter;stroke-width:0.8;\"/>\n   </g>\n   <g id=\"patch_5\">\n    <path d=\"M 30.103125 224.64 \nL 364.903125 224.64 \n\" style=\"fill:none;stroke:#000000;stroke-linecap:square;stroke-linejoin:miter;stroke-width:0.8;\"/>\n   </g>\n   <g id=\"patch_6\">\n    <path d=\"M 30.103125 7.2 \nL 364.903125 7.2 \n\" style=\"fill:none;stroke:#000000;stroke-linecap:square;stroke-linejoin:miter;stroke-width:0.8;\"/>\n   </g>\n  </g>\n </g>\n <defs>\n  <clipPath id=\"p9e621e4cea\">\n   <rect height=\"217.44\" width=\"334.8\" x=\"30.103125\" y=\"7.2\"/>\n  </clipPath>\n </defs>\n</svg>\n",
      "image/png": "[encoded data removed]"
     },
     "metadata": {
      "needs_background": "light"
     }
    }
   ],
   "source": [
    "plt.scatter(stateData['IncomePerCap'], stateData['normalized_election_outcome']);"
   ]
  },
  {
   "cell_type": "code",
   "execution_count": null,
   "metadata": {},
   "outputs": [],
   "source": []
  }
 ],
 "metadata": {
  "kernelspec": {
   "display_name": "Python 3",
   "language": "python",
   "name": "python3"
  },
  "language_info": {
   "codemirror_mode": {
    "name": "ipython",
    "version": 3
   },
   "file_extension": ".py",
   "mimetype": "text/x-python",
   "name": "python",
   "nbconvert_exporter": "python",
   "pygments_lexer": "ipython3",
   "version": "3.7.4-final"
  }
 },
 "nbformat": 4,
 "nbformat_minor": 2
}