{
 "cells": [
  {
   "cell_type": "markdown",
   "metadata": {},
   "source": [
    "### Imports"
   ]
  },
  {
   "cell_type": "code",
   "execution_count": 2,
   "metadata": {},
   "outputs": [],
   "source": [
    "import numpy as np\n",
    "import pandas as pd\n",
    "import matplotlib\n",
    "import matplotlib.pyplot as plt\n",
    "import array as array\n",
    "from scipy.stats import pearsonr\n",
    "%matplotlib inline\n",
    "import seaborn as sns\n",
    "pd.set_option('display.width', 500)\n",
    "pd.set_option('display.max_columns', 100)\n",
    "pd.set_option('display.max_rows', 100)\n",
    "#pd.set_option(\"display.max_rows\", None, \"display.max_columns\", None)"
   ]
  },
  {
   "cell_type": "markdown",
   "metadata": {},
   "source": [
    "### Data Loading"
   ]
  },
  {
   "cell_type": "code",
   "execution_count": 4,
   "metadata": {},
   "outputs": [
    {
     "name": "stdout",
     "output_type": "stream",
     "text": [
      "County result: (4682, 7)\n",
      "State result: (64, 5)\n",
      "demographic: (3220, 37)\n"
     ]
    }
   ],
   "source": [
    "demographics=pd.read_csv(\"data/election/demographic.csv\")\n",
    "c_results=pd.read_csv(\"data/output/countyData.csv\")\n",
    "s_results=pd.read_csv(\"data/output/stateData.csv\")\n",
    "print('County result:',c_results.shape)\n",
    "print('State result:',s_results.shape)\n",
    "print('demographic:',demographics.shape)"
   ]
  },
  {
   "cell_type": "markdown",
   "metadata": {},
   "source": [
    "### Data Cleaning - Demographics"
   ]
  },
  {
   "cell_type": "code",
   "execution_count": 3,
   "metadata": {
    "scrolled": true
   },
   "outputs": [],
   "source": [
    "#Porto Rico doesnt vote\n",
    "demographics.drop(demographics[demographics.State=='Puerto Rico'].index, inplace=True)\n",
    "\n",
    "#Drop Columns\n",
    "demographics.drop(['CountyId','IncomeErr','IncomePerCapErr'], axis=1, inplace=True)\n",
    "\n",
    "#General Data adjustment for mapping\n",
    "demographics['County'] = demographics['County'].str.replace(' County', '')\n",
    "demographics['County'] = demographics['County'].str.replace(' Parish', '')\n",
    "demographics['County'] = demographics['County'].str.replace(' parish', '')\n",
    "\n",
    "#Virginia\n",
    "m = demographics['State'] == 'Virginia'\n",
    "demographics.loc[m, 'County'] = demographics.loc[m, 'County'].replace({' city': ''}, regex=True)\n",
    "demographics.loc[m, 'County'] = demographics.loc[m, 'County'].replace({' City': ''}, regex=True)\n",
    "\n",
    "#Alaska\n",
    "m = demographics['State'] == 'Alaska'\n",
    "demographics.loc[m, 'County'] = 'Alaska'\n",
    "\n",
    "#Alaska Merge\n",
    "\n",
    "#Sorting\n",
    "demographics.sort_values(by=['State', 'County'], inplace=True, ascending=True)"
   ]
  },
  {
   "cell_type": "markdown",
   "metadata": {},
   "source": [
    "### Data Cleaning - c_result"
   ]
  },
  {
   "cell_type": "code",
   "execution_count": 4,
   "metadata": {},
   "outputs": [],
   "source": [
    "#Drop NA for Now until fix\n",
    "c_results=c_results.dropna()\n",
    "\n",
    "#TEMPORARY FIX /// Drop all Alaska Except one\n",
    "c_results.drop(c_results[(c_results.state=='Alaska') & (c_results.county_id > 13)].index, inplace=True)\n",
    "\n",
    "#Sorting\n",
    "#c_results.sort_values(by=['state', 'county'], inplace=True, ascending=True)"
   ]
  },
  {
   "cell_type": "markdown",
   "metadata": {},
   "source": [
    "### Data Cleaning - s_result"
   ]
  },
  {
   "cell_type": "code",
   "execution_count": 5,
   "metadata": {},
   "outputs": [],
   "source": [
    "#Drop NA for Now until fix\n",
    "s_results=s_results.dropna()\n",
    "\n",
    "#Sorting\n",
    "#c_results.sort_values(by=['state', 'county'], inplace=True, ascending=True)"
   ]
  },
  {
   "cell_type": "markdown",
   "metadata": {},
   "source": [
    "### Data County Merge"
   ]
  },
  {
   "cell_type": "code",
   "execution_count": 6,
   "metadata": {},
   "outputs": [],
   "source": [
    "County_merged=pd.merge(right=demographics, left=c_results, right_on=['State','County'], left_on=['state','county'])\n",
    "County_merged.drop(['State', 'County'], axis=1, inplace=True)\n",
    "County_merged.shape\n",
    "County_merged.to_csv (r'data/output/Merged_County_V1.csv', index = False, header=True)"
   ]
  },
  {
   "cell_type": "markdown",
   "metadata": {},
   "source": [
    "### Data State Merge"
   ]
  },
  {
   "cell_type": "code",
   "execution_count": 7,
   "metadata": {},
   "outputs": [],
   "source": [
    "def sumMerge(df, adding_param, state_iter):\n",
    "    return df.loc[df.State==state_iter][adding_param].sum()\n",
    "\n",
    "def weightedAverageMerge(df, mean_variable):\n",
    "    totalW=0\n",
    "    param=0\n",
    "    for param, weight in zip(df[mean_variable], df['TotalPop']):\n",
    "        param += float(param) * float(weight)\n",
    "        totalW += weight\n",
    "    return param/totalW"
   ]
  },
  {
   "cell_type": "code",
   "execution_count": 8,
   "metadata": {
    "scrolled": true
   },
   "outputs": [],
   "source": [
    "#Merge the data that needs to be summed\n",
    "column_to_sum_list = ['TotalPop','Men', 'Women']\n",
    "states_to_list = demographics['State'].unique()\n",
    "\n",
    "for a in column_to_sum_list:\n",
    "    mylist = []\n",
    "    for b in states_to_list:\n",
    "        mylist.append(sumMerge(demographics, a, b))\n",
    "    s_results[a] = mylist\n",
    "    #print(len(mylist))"
   ]
  },
  {
   "cell_type": "code",
   "execution_count": 9,
   "metadata": {},
   "outputs": [],
   "source": [
    "s_results \n",
    "s_results.to_csv (r'data/output/Merged_State_V1.csv', index = False, header=True)"
   ]
  },
  {
   "cell_type": "markdown",
   "metadata": {},
   "source": [
    "### NEED SOME WORK FOR WEIGHTED AVERAGE"
   ]
  },
  {
   "cell_type": "markdown",
   "metadata": {},
   "source": [
    "#### 1rst try with my own function"
   ]
  },
  {
   "cell_type": "code",
   "execution_count": 10,
   "metadata": {},
   "outputs": [
    {
     "data": {
      "text/plain": [
       "279.27782388821566"
      ]
     },
     "execution_count": 10,
     "metadata": {},
     "output_type": "execute_result"
    }
   ],
   "source": [
    "#Merge the data that needs to be averaged\n",
    "weightedAverageMerge(County_merged.loc[County_merged.state == 'Alaska'], 'Income')\n",
    "\n",
    "#Results Are too Low. I must have made a mistake"
   ]
  },
  {
   "cell_type": "markdown",
   "metadata": {},
   "source": [
    "#### 2nd Try"
   ]
  },
  {
   "cell_type": "code",
   "execution_count": 11,
   "metadata": {},
   "outputs": [
    {
     "data": {
      "text/plain": [
       "State\n",
       "Alabama                  85052.526500\n",
       "Alaska                   29045.053217\n",
       "Arizona                 536780.607774\n",
       "Arkansas                 45512.761175\n",
       "California              759714.564592\n",
       "Colorado                104667.028150\n",
       "Connecticut             452467.621496\n",
       "Delaware                328418.178645\n",
       "District of Columbia    672391.000000\n",
       "Florida                 328009.341073\n",
       "Georgia                  81288.843396\n",
       "Hawaii                  312951.801911\n",
       "Idaho                    41917.211964\n",
       "Illinois                149863.480248\n",
       "Indiana                  73853.129842\n",
       "Iowa                     33685.296036\n",
       "Kansas                   31706.252247\n",
       "Kentucky                 42469.469863\n",
       "Louisiana                81081.338100\n",
       "Maine                    90348.393569\n",
       "Maryland                280782.108812\n",
       "Massachusetts           517320.187104\n",
       "Michigan                135826.429494\n",
       "Minnesota                74080.791981\n",
       "Mississippi              42143.596717\n",
       "Missouri                 62701.448805\n",
       "Montana                  19673.299853\n",
       "Nebraska                 22539.929697\n",
       "Nevada                  166337.923675\n",
       "New Hampshire           148517.370319\n",
       "New Jersey              428675.301537\n",
       "New Mexico               72759.601487\n",
       "New York                363523.207314\n",
       "North Carolina          116444.490149\n",
       "North Dakota             14518.857592\n",
       "Ohio                    136360.822767\n",
       "Oklahoma                 54760.616319\n",
       "Oregon                  132808.465708\n",
       "Pennsylvania            210746.096143\n",
       "Rhode Island            184178.262809\n",
       "South Carolina          124283.918034\n",
       "South Dakota             13940.801932\n",
       "Tennessee                80729.688415\n",
       "Texas                   126059.442181\n",
       "Utah                    114949.459633\n",
       "Vermont                  47083.916215\n",
       "Virginia                 84401.072232\n",
       "Washington              230799.887655\n",
       "West Virginia            35834.123269\n",
       "Wisconsin                85907.993543\n",
       "Wyoming                  26479.553454\n",
       "Name: wa, dtype: float64"
      ]
     },
     "execution_count": 11,
     "metadata": {},
     "output_type": "execute_result"
    }
   ],
   "source": [
    "g = demographics.groupby('State')\n",
    "demographics['wa']=demographics.Income / g.Income.transform(\"sum\") * demographics.TotalPop\n",
    "g.wa.sum()\n",
    "\n",
    "#Results Are too High. I must have made a mistake"
   ]
  },
  {
   "cell_type": "markdown",
   "metadata": {},
   "source": [
    "#### 3rd Try"
   ]
  },
  {
   "cell_type": "code",
   "execution_count": 12,
   "metadata": {},
   "outputs": [
    {
     "ename": "NameError",
     "evalue": "name 'incomeMerge' is not defined",
     "output_type": "error",
     "traceback": [
      "\u001b[0;31m---------------------------------------------------------------------------\u001b[0m",
      "\u001b[0;31mNameError\u001b[0m                                 Traceback (most recent call last)",
      "\u001b[0;32m<ipython-input-12-7a004c43bd6d>\u001b[0m in \u001b[0;36m<module>\u001b[0;34m\u001b[0m\n\u001b[1;32m      3\u001b[0m \u001b[0;32mfor\u001b[0m \u001b[0mstate\u001b[0m\u001b[0;34m,\u001b[0m \u001b[0mgroup\u001b[0m \u001b[0;32min\u001b[0m \u001b[0mg\u001b[0m\u001b[0;34m:\u001b[0m\u001b[0;34m\u001b[0m\u001b[0;34m\u001b[0m\u001b[0m\n\u001b[1;32m      4\u001b[0m     \u001b[0;31m#     do for all columns: merge\u001b[0m\u001b[0;34m\u001b[0m\u001b[0;34m\u001b[0m\u001b[0;34m\u001b[0m\u001b[0m\n\u001b[0;32m----> 5\u001b[0;31m     \u001b[0mnewVal\u001b[0m \u001b[0;34m=\u001b[0m \u001b[0mincomeMerge\u001b[0m\u001b[0;34m(\u001b[0m\u001b[0mgroup\u001b[0m\u001b[0;34m)\u001b[0m\u001b[0;34m\u001b[0m\u001b[0;34m\u001b[0m\u001b[0m\n\u001b[0m\u001b[1;32m      6\u001b[0m     \u001b[0mstateData\u001b[0m\u001b[0;34m.\u001b[0m\u001b[0mloc\u001b[0m\u001b[0;34m[\u001b[0m\u001b[0;34m(\u001b[0m\u001b[0mstateData\u001b[0m\u001b[0;34m[\u001b[0m\u001b[0;34m'state'\u001b[0m\u001b[0;34m]\u001b[0m \u001b[0;34m==\u001b[0m \u001b[0mstate\u001b[0m\u001b[0;34m)\u001b[0m\u001b[0;34m,\u001b[0m \u001b[0;34m'IncomePerCap'\u001b[0m\u001b[0;34m]\u001b[0m \u001b[0;34m=\u001b[0m \u001b[0mnewVal\u001b[0m\u001b[0;34m\u001b[0m\u001b[0;34m\u001b[0m\u001b[0m\n\u001b[1;32m      7\u001b[0m     \u001b[0mnewPop\u001b[0m \u001b[0;34m=\u001b[0m \u001b[0mtotalPopMerge\u001b[0m\u001b[0;34m(\u001b[0m\u001b[0mgroup\u001b[0m\u001b[0;34m)\u001b[0m\u001b[0;34m\u001b[0m\u001b[0;34m\u001b[0m\u001b[0m\n",
      "\u001b[0;31mNameError\u001b[0m: name 'incomeMerge' is not defined"
     ]
    }
   ],
   "source": [
    "stateData = County_merged.copy()\n",
    "g = stateData.groupby('state')\n",
    "for state, group in g:\n",
    "    #     do for all columns: merge\n",
    "    newVal = incomeMerge(group)\n",
    "    stateData.loc[(stateData['state'] == state), 'IncomePerCap'] = newVal\n",
    "    newPop = totalPopMerge(group)\n",
    "    stateData.loc[(stateData['state'] == state), 'IncomePerCap'] = newVal\n",
    "stateData = stateData.drop_duplicates()"
   ]
  },
  {
   "cell_type": "code",
   "execution_count": null,
   "metadata": {},
   "outputs": [],
   "source": [
    "stateData"
   ]
  },
  {
   "cell_type": "code",
   "execution_count": null,
   "metadata": {},
   "outputs": [],
   "source": []
  }
 ],
 "metadata": {
  "kernelspec": {
   "display_name": "Python 3",
   "language": "python",
   "name": "python3"
  },
  "language_info": {
   "codemirror_mode": {
    "name": "ipython",
    "version": 3
   },
   "file_extension": ".py",
   "mimetype": "text/x-python",
   "name": "python",
   "nbconvert_exporter": "python",
   "pygments_lexer": "ipython3",
   "version": "3.7.4"
  }
 },
 "nbformat": 4,
 "nbformat_minor": 2
}
